{
 "cells": [
  {
   "cell_type": "code",
   "execution_count": 1,
   "metadata": {},
   "outputs": [],
   "source": [
    "#Creating Node class to initialize a Node\n",
    "\n",
    "class Node(object):\n",
    "    \n",
    "    def __init__(self, data):\n",
    "        self.data = data\n",
    "        self.nextNode = None\n",
    "        \n",
    "#Creating LinkList class for insertion, deletion, and traversal\n",
    "        \n",
    "class LinkedList(object):\n",
    "    \n",
    "    #Initialization of the class - head and size\n",
    "    def __init__(self):\n",
    "        self.head = None\n",
    "        self.size = 0\n",
    "        \n",
    "    \n",
    "    #InsertStart function to add a node at the start of the Linklist\n",
    "    #Time complexity O(1)\n",
    "    def InsertStart(self, data):\n",
    "        self.size += 1\n",
    "        newNode = Node(data)\n",
    "        \n",
    "        if not self.head:\n",
    "            self.head = newNode\n",
    "        else:\n",
    "            newNode.nextNode = self.head\n",
    "            self.head = newNode\n",
    "            \n",
    "    \n",
    "    #InsertEnd function to add a node at the end of the Linklist\n",
    "    #Time complexity O(n) \n",
    "    def InsertEnd(self, data):\n",
    "        self.size += 1\n",
    "        actualNode = self.head\n",
    "        newNode = Node(data)\n",
    "        while actualNode.nextNode is not None:\n",
    "            actualNode = actualNode.nextNode\n",
    "            \n",
    "        actualNode.nextNode = newNode\n",
    "        newNode.nextNode = None\n",
    "        \n",
    "    \n",
    "    #InsertMiddle function to add a node after a specific no of node (k is the no of node after the new data is inserted)\n",
    "    #Can be modify to add a node after a node data\n",
    "    #Time complexity O(n) -  as it can very between 1-n, bytaking the worst time i.e case where k = n, last node\n",
    "    def InsertMiddle(self, k, data):\n",
    "        self.size += 1\n",
    "        newNode = Node(data)\n",
    "        actualNode = self.head\n",
    "        count = 1\n",
    "        while count <= k and actualNode.nextNode is not None:\n",
    "            previousNode = actualNode\n",
    "            actualNode = actualNode.nextNode\n",
    "            count += 1\n",
    "            \n",
    "            \n",
    "        previousNode.nextNode = newNode\n",
    "        newNode.nextNode = actualNode\n",
    "        \n",
    "    \n",
    "    #RemoveStart function to delete a node at the start of the Linklist\n",
    "    #Time complexity O(1) \n",
    "    def RemoveStart(self):\n",
    "        self.size -= 1\n",
    "        actualNode = self.head\n",
    "        self.head = actualNode.nextNode\n",
    "        \n",
    "    \n",
    "    #RemoveEnd function to delete a node at the end of the Linklist\n",
    "    #Time complexity O(n) - as it travrese till the last node to delete it\n",
    "    def RemoveEnd(self):\n",
    "        self.size -= 1\n",
    "        actualNode = self.head\n",
    "        while actualNode.nextNode is not None:\n",
    "            previousNode = actualNode\n",
    "            actualNode = actualNode.nextNode\n",
    "  \n",
    "        previousNode.nextNode = None\n",
    "    \n",
    "    \n",
    "    #RemoveMiddle function to delete a specific node which contains the data as provided in the function argument\n",
    "    #Can be modify to delete a specific no of node e.g remove node which comes at 3rd position\n",
    "    #Time complexity O(n) - as it can very between 1-n, bytaking the worst time i.e last node\n",
    "    def RemoveMiddle(self, data):\n",
    "        if self.head is None:\n",
    "            return print('there is no linklist')\n",
    "        \n",
    "        self.size -= 1\n",
    "        actualNode = self.head\n",
    "        previousNode = None\n",
    "        \n",
    "        while actualNode.data != data:\n",
    "            previousNode = actualNode\n",
    "            actualNode = actualNode.nextNode\n",
    "            \n",
    "        if previousNode is None:\n",
    "            self.head = actualNode.nextNode\n",
    "            \n",
    "        else:\n",
    "            previousNode.nextNode = actualNode.nextNode\n",
    "        \n",
    "        \n",
    "    #Function to return the size of the linklist\n",
    "    #Time complexity O(1) - constent time\n",
    "    def size(self):\n",
    "        return self.size\n",
    "    \n",
    "    \n",
    "    #Function to return the size of the linklist\n",
    "    #Time complexity O(n) - as it traverse the entire linkedlist to count the number of node\n",
    "    def size2(self):\n",
    "        \n",
    "        actualNode = self.head\n",
    "        size = 0\n",
    "        \n",
    "        while actualNode is not None:\n",
    "            size += 1\n",
    "            actualNode = actualNode.nextNode\n",
    "            \n",
    "        return size\n",
    "    \n",
    "    \n",
    "    #Function to print the content of the linkedlist\n",
    "    #Time complexity O(n) - as it traverse the entire linked list to read the node content\n",
    "    def printNode(self):\n",
    "        \n",
    "        actualNode = self.head\n",
    "        while actualNode is not None:\n",
    "            print('%d'%actualNode.data)\n",
    "            actualNode = actualNode.nextNode\n",
    "            \n"
   ]
  },
  {
   "cell_type": "code",
   "execution_count": 2,
   "metadata": {},
   "outputs": [],
   "source": [
    "l = LinkedList()"
   ]
  },
  {
   "cell_type": "code",
   "execution_count": 3,
   "metadata": {},
   "outputs": [],
   "source": [
    "l.InsertStart(5)"
   ]
  },
  {
   "cell_type": "code",
   "execution_count": 4,
   "metadata": {},
   "outputs": [],
   "source": [
    "l.InsertStart(6)"
   ]
  },
  {
   "cell_type": "code",
   "execution_count": 5,
   "metadata": {},
   "outputs": [],
   "source": [
    "l.InsertStart(9)"
   ]
  },
  {
   "cell_type": "code",
   "execution_count": 6,
   "metadata": {},
   "outputs": [],
   "source": [
    "l.InsertStart(10)"
   ]
  },
  {
   "cell_type": "code",
   "execution_count": 7,
   "metadata": {},
   "outputs": [
    {
     "name": "stdout",
     "output_type": "stream",
     "text": [
      "10\n",
      "9\n",
      "6\n",
      "5\n"
     ]
    }
   ],
   "source": [
    "l.printNode()"
   ]
  },
  {
   "cell_type": "code",
   "execution_count": 8,
   "metadata": {},
   "outputs": [
    {
     "data": {
      "text/plain": [
       "4"
      ]
     },
     "execution_count": 8,
     "metadata": {},
     "output_type": "execute_result"
    }
   ],
   "source": [
    "l.size2()"
   ]
  },
  {
   "cell_type": "code",
   "execution_count": 9,
   "metadata": {},
   "outputs": [
    {
     "data": {
      "text/plain": [
       "4"
      ]
     },
     "execution_count": 9,
     "metadata": {},
     "output_type": "execute_result"
    }
   ],
   "source": [
    "l.size"
   ]
  },
  {
   "cell_type": "code",
   "execution_count": 10,
   "metadata": {},
   "outputs": [],
   "source": [
    "l.InsertEnd(7)"
   ]
  },
  {
   "cell_type": "code",
   "execution_count": 11,
   "metadata": {},
   "outputs": [
    {
     "name": "stdout",
     "output_type": "stream",
     "text": [
      "10\n",
      "9\n",
      "6\n",
      "5\n",
      "7\n"
     ]
    }
   ],
   "source": [
    "l.printNode()"
   ]
  },
  {
   "cell_type": "code",
   "execution_count": 12,
   "metadata": {},
   "outputs": [
    {
     "data": {
      "text/plain": [
       "5"
      ]
     },
     "execution_count": 12,
     "metadata": {},
     "output_type": "execute_result"
    }
   ],
   "source": [
    "l.size"
   ]
  },
  {
   "cell_type": "code",
   "execution_count": 13,
   "metadata": {},
   "outputs": [
    {
     "data": {
      "text/plain": [
       "5"
      ]
     },
     "execution_count": 13,
     "metadata": {},
     "output_type": "execute_result"
    }
   ],
   "source": [
    "l.size2()"
   ]
  },
  {
   "cell_type": "code",
   "execution_count": 14,
   "metadata": {},
   "outputs": [],
   "source": [
    "l.InsertMiddle(3, 8)"
   ]
  },
  {
   "cell_type": "code",
   "execution_count": 15,
   "metadata": {},
   "outputs": [
    {
     "name": "stdout",
     "output_type": "stream",
     "text": [
      "10\n",
      "9\n",
      "6\n",
      "8\n",
      "5\n",
      "7\n"
     ]
    }
   ],
   "source": [
    "l.printNode()"
   ]
  },
  {
   "cell_type": "code",
   "execution_count": 16,
   "metadata": {},
   "outputs": [
    {
     "data": {
      "text/plain": [
       "6"
      ]
     },
     "execution_count": 16,
     "metadata": {},
     "output_type": "execute_result"
    }
   ],
   "source": [
    "l.size2()"
   ]
  },
  {
   "cell_type": "code",
   "execution_count": 17,
   "metadata": {},
   "outputs": [],
   "source": [
    "l.RemoveStart()"
   ]
  },
  {
   "cell_type": "code",
   "execution_count": 18,
   "metadata": {},
   "outputs": [
    {
     "name": "stdout",
     "output_type": "stream",
     "text": [
      "9\n",
      "6\n",
      "8\n",
      "5\n",
      "7\n"
     ]
    }
   ],
   "source": [
    "l.printNode()"
   ]
  },
  {
   "cell_type": "code",
   "execution_count": 19,
   "metadata": {},
   "outputs": [
    {
     "data": {
      "text/plain": [
       "5"
      ]
     },
     "execution_count": 19,
     "metadata": {},
     "output_type": "execute_result"
    }
   ],
   "source": [
    "l.size2()"
   ]
  },
  {
   "cell_type": "code",
   "execution_count": 20,
   "metadata": {},
   "outputs": [],
   "source": [
    "l.RemoveEnd()"
   ]
  },
  {
   "cell_type": "code",
   "execution_count": 21,
   "metadata": {},
   "outputs": [
    {
     "name": "stdout",
     "output_type": "stream",
     "text": [
      "9\n",
      "6\n",
      "8\n",
      "5\n"
     ]
    }
   ],
   "source": [
    "l.printNode()"
   ]
  },
  {
   "cell_type": "code",
   "execution_count": 22,
   "metadata": {},
   "outputs": [],
   "source": [
    "l.RemoveMiddle(8)"
   ]
  },
  {
   "cell_type": "code",
   "execution_count": 23,
   "metadata": {},
   "outputs": [
    {
     "name": "stdout",
     "output_type": "stream",
     "text": [
      "9\n",
      "6\n",
      "5\n"
     ]
    }
   ],
   "source": [
    "l.printNode()"
   ]
  },
  {
   "cell_type": "code",
   "execution_count": null,
   "metadata": {},
   "outputs": [],
   "source": []
  }
 ],
 "metadata": {
  "kernelspec": {
   "display_name": "Python 3",
   "language": "python",
   "name": "python3"
  },
  "language_info": {
   "codemirror_mode": {
    "name": "ipython",
    "version": 3
   },
   "file_extension": ".py",
   "mimetype": "text/x-python",
   "name": "python",
   "nbconvert_exporter": "python",
   "pygments_lexer": "ipython3",
   "version": "3.4.3"
  }
 },
 "nbformat": 4,
 "nbformat_minor": 2
}
