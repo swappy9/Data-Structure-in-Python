{
 "cells": [
  {
   "cell_type": "code",
   "execution_count": 1,
   "metadata": {},
   "outputs": [],
   "source": [
    "import pandas as pd\n",
    "import numpy as np"
   ]
  },
  {
   "cell_type": "code",
   "execution_count": null,
   "metadata": {},
   "outputs": [],
   "source": []
  },
  {
   "cell_type": "code",
   "execution_count": null,
   "metadata": {},
   "outputs": [],
   "source": []
  },
  {
   "cell_type": "markdown",
   "metadata": {},
   "source": [
    "# Arrays & Strings"
   ]
  },
  {
   "cell_type": "code",
   "execution_count": null,
   "metadata": {},
   "outputs": [],
   "source": []
  },
  {
   "cell_type": "code",
   "execution_count": 2,
   "metadata": {},
   "outputs": [
    {
     "data": {
      "text/plain": [
       "'\\nQ1. Algo to determine if the string has all unique characters. NO additional data structure?\\n\\n'"
      ]
     },
     "execution_count": 2,
     "metadata": {},
     "output_type": "execute_result"
    }
   ],
   "source": [
    "'''\n",
    "Q1. Algo to determine if the string has all unique characters. NO additional data structure?\n",
    "\n",
    "'''"
   ]
  },
  {
   "cell_type": "code",
   "execution_count": 37,
   "metadata": {},
   "outputs": [
    {
     "name": "stdout",
     "output_type": "stream",
     "text": [
      "IS Unique:  False\n"
     ]
    }
   ],
   "source": [
    "#Ans Q1\n",
    "\n",
    "#Approach 1\n",
    "\n",
    "def searchunique(st):\n",
    "    for i in range(len(st)-1):\n",
    "        if st[i] in st[i+1:]:\n",
    "            return False\n",
    "    return True\n",
    "\n",
    "\n",
    "print('IS Unique: ', searchunique(\"hb 627jh=j ()\"))\n",
    "\n",
    "#Run time is O(N2) as 1 N for the loop and another from the statement of if. "
   ]
  },
  {
   "cell_type": "code",
   "execution_count": 38,
   "metadata": {},
   "outputs": [
    {
     "name": "stdout",
     "output_type": "stream",
     "text": [
      "IS Unique:  False\n"
     ]
    }
   ],
   "source": [
    "#Ans Q1\n",
    "\n",
    "#Approach 2\n",
    "\n",
    "def searchunique2(st):\n",
    "    if len(st) <= 1:\n",
    "        return True\n",
    "    else:\n",
    "        st_dict = {}\n",
    "        for i in st:\n",
    "            if i in st_dict:\n",
    "                return False\n",
    "            else:\n",
    "                st_dict[i] = 1\n",
    "        return True\n",
    "\n",
    "\n",
    "print('IS Unique: ', searchunique2(\"hb 627jh=j ()\"))\n",
    "\n",
    "#Run time is O(N) as 1 N for the loop and accessing the dict is O(1)"
   ]
  },
  {
   "cell_type": "code",
   "execution_count": 39,
   "metadata": {},
   "outputs": [
    {
     "name": "stdout",
     "output_type": "stream",
     "text": [
      "IS Unique:  False\n"
     ]
    }
   ],
   "source": [
    "#Ans Q1\n",
    "\n",
    "#Approach 3\n",
    "\n",
    "def searchunique3(st):\n",
    "    if len(st) <= 1:\n",
    "        return True\n",
    "    else:\n",
    "        st = sorted(st)\n",
    "        last_char = st[-1]\n",
    "        for i in range(len(st)-1):\n",
    "            if st[i] == last_char:\n",
    "                return False\n",
    "            else:\n",
    "                last_char = st[i]\n",
    "        return True\n",
    "\n",
    "\n",
    "print('IS Unique: ', searchunique3(\"hb 627jh=j ()\"))\n",
    "\n",
    "#Run time is O(NLogN) as 1 N for the loop and LogN for the sorted statement"
   ]
  },
  {
   "cell_type": "code",
   "execution_count": null,
   "metadata": {},
   "outputs": [],
   "source": []
  },
  {
   "cell_type": "code",
   "execution_count": null,
   "metadata": {},
   "outputs": [],
   "source": []
  },
  {
   "cell_type": "code",
   "execution_count": null,
   "metadata": {},
   "outputs": [],
   "source": [
    "'''\n",
    "Q2. Given 2 strings, write a method to decide if the one is permutation of other\n",
    "\n",
    "'''"
   ]
  },
  {
   "cell_type": "code",
   "execution_count": 58,
   "metadata": {},
   "outputs": [
    {
     "name": "stdout",
     "output_type": "stream",
     "text": [
      "IS Permutation:  False\n"
     ]
    }
   ],
   "source": [
    "#Ans Q2\n",
    "\n",
    "#Approach 1\n",
    "\n",
    "def permutation(st1, st2):\n",
    "    if len(st1) != len(st2):\n",
    "        return False\n",
    "    \n",
    "    if len(st1)==0 and len(st2)==0:\n",
    "        return True\n",
    "    \n",
    "    dict1 = {}\n",
    "    \n",
    "    for i in st1:\n",
    "        if i in dict1:\n",
    "            dict1[i]+=1\n",
    "        else:\n",
    "            dict1[i] = 1\n",
    "            \n",
    "    for j in st2:\n",
    "        if j in dict1:    # O(1) constant time as uses hash lookup\n",
    "            dict1[j]-=1\n",
    "        else:\n",
    "            return False\n",
    "    \n",
    "    for key in dict1:\n",
    "        if dict1[key] > 0:\n",
    "            return False\n",
    "        else:\n",
    "            return True\n",
    "            \n",
    "\n",
    "\n",
    "print('IS Permutation: ', permutation(\"dog \", \"dog\"))\n",
    "\n",
    "#Run time is O(N) as 1 N for each loop and there are 3 loops so we will add it 3N ==> O(N)"
   ]
  },
  {
   "cell_type": "code",
   "execution_count": 59,
   "metadata": {},
   "outputs": [
    {
     "name": "stdout",
     "output_type": "stream",
     "text": [
      "IS Permutation:  False\n"
     ]
    }
   ],
   "source": [
    "#Ans Q2\n",
    "\n",
    "#Approach 2\n",
    "\n",
    "def permutation2(st1, st2):\n",
    "    if len(st1) != len(st2):\n",
    "        return False\n",
    "    \n",
    "    if len(st1)==0 and len(st2)==0:\n",
    "        return True\n",
    "    \n",
    "    st1 = sorted(st1)\n",
    "    st2 = sorted(st2)\n",
    "    \n",
    "    for i in range(len(st1)):\n",
    "        if st1[i] != st2[i]:\n",
    "            return False\n",
    "        \n",
    "    return True\n",
    "            \n",
    "\n",
    "\n",
    "print('IS Permutation: ', permutation2(\"dag\", \"dog\"))\n",
    "\n",
    "#Run time is O(NlogN) as 1 N for the loop and 2*LogN for the sorted statement. "
   ]
  },
  {
   "cell_type": "code",
   "execution_count": null,
   "metadata": {},
   "outputs": [],
   "source": []
  },
  {
   "cell_type": "code",
   "execution_count": null,
   "metadata": {},
   "outputs": [],
   "source": []
  },
  {
   "cell_type": "code",
   "execution_count": 60,
   "metadata": {},
   "outputs": [
    {
     "data": {
      "text/plain": [
       "\"\\nQ3. Replace all the spaces in a string with '%20'\\n\\n\""
      ]
     },
     "execution_count": 60,
     "metadata": {},
     "output_type": "execute_result"
    }
   ],
   "source": [
    "'''\n",
    "Q3. Replace all the spaces in a string with '%20'\n",
    "\n",
    "'''"
   ]
  },
  {
   "cell_type": "code",
   "execution_count": 69,
   "metadata": {},
   "outputs": [
    {
     "name": "stdout",
     "output_type": "stream",
     "text": [
      "New String:  much%20ado%20about%20nothing\n"
     ]
    }
   ],
   "source": [
    "#Ans Q3\n",
    "\n",
    "#Approach 1\n",
    "\n",
    "\n",
    "def replacespace(st1):\n",
    "    temp1= \"\"\n",
    "    for i in st1.rstrip():\n",
    "        if i==\" \":\n",
    "            temp1+=\"%20\"\n",
    "        else:\n",
    "            temp1+=i\n",
    "            \n",
    "    return temp1\n",
    "            \n",
    "            \n",
    "\n",
    "\n",
    "print('New String: ', replacespace(\"much ado about nothing      \"))\n",
    "\n",
    "#Run time is O(N) as 1 N for the loop"
   ]
  },
  {
   "cell_type": "code",
   "execution_count": 71,
   "metadata": {},
   "outputs": [
    {
     "name": "stdout",
     "output_type": "stream",
     "text": [
      "New String:  much%20ado%20about%20nothing\n"
     ]
    }
   ],
   "source": [
    "#Ans Q3\n",
    "\n",
    "#Approach 2\n",
    "\n",
    "\n",
    "def replacespace2(st1):\n",
    "    return st1.rstrip().replace(\" \", \"%20\")\n",
    "            \n",
    "            \n",
    "\n",
    "\n",
    "print('New String: ', replacespace2(\"much ado about nothing      \"))\n",
    "\n",
    "#Run time is O(N) as 1 N for the loop"
   ]
  },
  {
   "cell_type": "code",
   "execution_count": null,
   "metadata": {},
   "outputs": [],
   "source": []
  },
  {
   "cell_type": "code",
   "execution_count": null,
   "metadata": {},
   "outputs": [],
   "source": []
  },
  {
   "cell_type": "code",
   "execution_count": 72,
   "metadata": {},
   "outputs": [
    {
     "data": {
      "text/plain": [
       "'\\nQ4. Palindrome Permutation: Given a string, check if it is a permutation of a palindrome\\n\\n'"
      ]
     },
     "execution_count": 72,
     "metadata": {},
     "output_type": "execute_result"
    }
   ],
   "source": [
    "'''\n",
    "Q4. Palindrome Permutation: Given a string, check if it is a permutation of a palindrome\n",
    "\n",
    "'''"
   ]
  },
  {
   "cell_type": "code",
   "execution_count": 85,
   "metadata": {},
   "outputs": [
    {
     "name": "stdout",
     "output_type": "stream",
     "text": [
      "New String:  True\n"
     ]
    }
   ],
   "source": [
    "#Ans Q4\n",
    "\n",
    "#Approach 1\n",
    "\n",
    "\n",
    "def ispalindromepermutation(st):\n",
    "    st = st.replace(\" \", \"\").lower()\n",
    "    dict1 = {}\n",
    "    for i in st:\n",
    "        if i in dict1:\n",
    "            dict1[i]+=1\n",
    "        else:\n",
    "            dict1[i] = 1\n",
    "    \n",
    "    \n",
    "    dict_odd = 0\n",
    "    for key in dict1:\n",
    "        if dict1[key] %2 !=0:\n",
    "            dict_odd+=1\n",
    "            \n",
    "    if dict_odd <=1:\n",
    "        return True\n",
    "    else:\n",
    "        return False\n",
    "            \n",
    "            \n",
    "            \n",
    "\n",
    "\n",
    "print('New String: ', ispalindromepermutation(\"no x in nixon\"))\n",
    "\n",
    "#Run time is O(N) as 1 N for the loop + O(N) for iterating through the dictionary"
   ]
  },
  {
   "cell_type": "code",
   "execution_count": null,
   "metadata": {},
   "outputs": [],
   "source": []
  },
  {
   "cell_type": "code",
   "execution_count": null,
   "metadata": {},
   "outputs": [],
   "source": []
  },
  {
   "cell_type": "code",
   "execution_count": 86,
   "metadata": {},
   "outputs": [
    {
     "data": {
      "text/plain": [
       "'\\nQ5. One Way: 3 edits are possible on a string, add, subtract, modify a character. Check if the 2 strings are \\n   1 or 0 edits away.\\n\\n'"
      ]
     },
     "execution_count": 86,
     "metadata": {},
     "output_type": "execute_result"
    }
   ],
   "source": [
    "'''\n",
    "Q5. One Way: 3 edits are possible on a string, add, subtract, modify a character. Check if the 2 strings are \n",
    "   1 or 0 edits away.\n",
    "\n",
    "'''"
   ]
  },
  {
   "cell_type": "code",
   "execution_count": 114,
   "metadata": {},
   "outputs": [
    {
     "name": "stdout",
     "output_type": "stream",
     "text": [
      "One Way Possible:  True\n"
     ]
    }
   ],
   "source": [
    "#Ans Q5\n",
    "\n",
    "#Approach 1\n",
    "\n",
    "\n",
    "def isOneWay(st1, st2):\n",
    "    if len(st1) - len(st2) not in (-1, 0, 1):\n",
    "        return False\n",
    "    \n",
    "    elif (len(st1)==0 and len(st2)==1) or (len(st2)==0 and len(st1)==1) or (len(st1)==0 and len(st2)==0):\n",
    "            return True\n",
    "    \n",
    "    else:\n",
    "        if len(st1)>len(st2):\n",
    "            dict1={}\n",
    "            for i in st1:\n",
    "                if i in dict1:\n",
    "                    dict1[i] += 1\n",
    "                else:\n",
    "                    dict1[i] = 1\n",
    "            for i in st2:\n",
    "                if i not in dict1:\n",
    "                    return False\n",
    "                else:\n",
    "                    return True\n",
    "                \n",
    "        elif len(st2)>len(st1):\n",
    "            dict2={}\n",
    "            for i in st2:\n",
    "                if i in dict2:\n",
    "                    dict2[i] += 1\n",
    "                else:\n",
    "                    dict2[i] = 1\n",
    "            for i in st1:\n",
    "                if i not in dict2:\n",
    "                    return False\n",
    "                else:\n",
    "                    return True\n",
    "         \n",
    "        else:\n",
    "            not_common = 0\n",
    "            for i in range(len(st1)):\n",
    "                if st1[i] != st2[i]:\n",
    "                    not_common+=1\n",
    "            if not_common>1:\n",
    "                return False\n",
    "            else:\n",
    "                return True\n",
    "        \n",
    "\n",
    "print('One Way Possible: ', isOneWay(\"ale\", \"elas\"))\n",
    "\n",
    "#Run time is O(N) as 1 N for the loop and O(1) for iterating searching in dict."
   ]
  },
  {
   "cell_type": "code",
   "execution_count": null,
   "metadata": {},
   "outputs": [],
   "source": []
  },
  {
   "cell_type": "code",
   "execution_count": null,
   "metadata": {},
   "outputs": [],
   "source": []
  },
  {
   "cell_type": "code",
   "execution_count": 115,
   "metadata": {},
   "outputs": [
    {
     "data": {
      "text/plain": [
       "'\\nQ6. String Compression, aabcccccaaa would be a2b1c5a3. If the compressed string is smallaer than the original one, \\n    return the compress one else the original string\\n\\n'"
      ]
     },
     "execution_count": 115,
     "metadata": {},
     "output_type": "execute_result"
    }
   ],
   "source": [
    "'''\n",
    "Q6. String Compression, aabcccccaaa would be a2b1c5a3. If the compressed string is smallaer than the original one, \n",
    "    return the compress one else the original string\n",
    "\n",
    "'''"
   ]
  },
  {
   "cell_type": "code",
   "execution_count": 151,
   "metadata": {},
   "outputs": [
    {
     "name": "stdout",
     "output_type": "stream",
     "text": [
      "Compressed string:  \n"
     ]
    }
   ],
   "source": [
    "#Ans Q6\n",
    "\n",
    "#Approach 1\n",
    "\n",
    "\n",
    "def iscompress(st):\n",
    "    if len(st) <= 1:\n",
    "        return st\n",
    "    \n",
    "    else:\n",
    "        counter = 1\n",
    "        st_new = ''\n",
    "        for i in range(len(st)-1):\n",
    "            if i+1 == len(st)-1 and st[i] == st[i+1]:\n",
    "                st_new = st_new + str(st[i]) + str(counter+1)\n",
    "            elif i+1 == len(st)-1 and st[i] != st[i+1]:\n",
    "                st_new = st_new + str(st[i]) + str(counter) + str(st[i+1]) + '1'  \n",
    "            else:\n",
    "                if st[i] == st[i+1]:\n",
    "                    counter+=1\n",
    "                else:\n",
    "                    st_new = st_new + str(st[i]) + str(counter)\n",
    "                    counter = 1\n",
    "                \n",
    "        return min(st, st_new, key=len)\n",
    "\n",
    "print('Compressed string: ', iscompress(\"\"))\n",
    "\n",
    "#Run time is O(N) as 1 N for the loop"
   ]
  },
  {
   "cell_type": "code",
   "execution_count": null,
   "metadata": {},
   "outputs": [],
   "source": []
  },
  {
   "cell_type": "code",
   "execution_count": null,
   "metadata": {},
   "outputs": [],
   "source": []
  },
  {
   "cell_type": "code",
   "execution_count": null,
   "metadata": {},
   "outputs": [],
   "source": [
    "'''\n",
    "Q7. Rotate matrix by 90degrees --> Clockwise & anti-clokwise\n",
    "\n",
    "'''"
   ]
  },
  {
   "cell_type": "code",
   "execution_count": 16,
   "metadata": {},
   "outputs": [
    {
     "name": "stdout",
     "output_type": "stream",
     "text": [
      "Original Matrix:  [[1, 2, 3], [4, 5, 6], [7, 8, 9]]\n",
      "Rotated Matrix:  [[7, 4, 1], [8, 5, 2], [9, 6, 3]]\n"
     ]
    }
   ],
   "source": [
    "#Ans Q7 --> Clockwise\n",
    "\n",
    "#Approach 1\n",
    "\n",
    "\n",
    "def RotateMatrix(matrix):\n",
    "    #Reversing the matrix O(n/2) ==> O(N)\n",
    "    for i in range(int(len(matrix)/2)+1):\n",
    "        temp = matrix[i]\n",
    "        matrix[i] = matrix[-i-1]\n",
    "        matrix[-i-1] = temp\n",
    "        \n",
    "    #exchanging the values by diagonal O(N * N) for two nested loop\n",
    "    for i in range(len(matrix)):\n",
    "        for j in range(i):\n",
    "            matrix[i][j], matrix[j][i] = matrix[j][i], matrix[i][j]\n",
    "            \n",
    "    return matrix\n",
    "    \n",
    "\n",
    "print('Original Matrix: ', ([[1, 2, 3], [4, 5, 6], [7, 8, 9]]))\n",
    "print('Rotated Matrix: ', RotateMatrix([[1, 2, 3], [4, 5, 6], [7, 8, 9]]))\n",
    "\n",
    "#Run time is O(N*N) "
   ]
  },
  {
   "cell_type": "code",
   "execution_count": 19,
   "metadata": {},
   "outputs": [
    {
     "name": "stdout",
     "output_type": "stream",
     "text": [
      "Original Matrix:  [[1, 2, 3], [4, 5, 6], [7, 8, 9]]\n",
      "Rotated Matrix:  [[3, 6, 9], [2, 5, 8], [1, 4, 7]]\n"
     ]
    }
   ],
   "source": [
    "#Ans Q7 --> AntiClockwise\n",
    "\n",
    "#Approach 2\n",
    "\n",
    "\n",
    "def RotateMatrix(matrix):\n",
    "    #Reversing the each element in the matrix O(N*N)\n",
    "    for i in matrix:\n",
    "        for j in range(int(len(i)/2)+1):\n",
    "            temp = i[j]\n",
    "            i[j] = i[-j-1]\n",
    "            i[-j-1] = temp\n",
    "        \n",
    "    #exchanging the values by diagonal O(N * logN) ==> O(NlogN)\n",
    "    for i in range(len(matrix)):\n",
    "        for j in range(i):\n",
    "            matrix[i][j], matrix[j][i] = matrix[j][i], matrix[i][j]\n",
    "            \n",
    "    return matrix\n",
    "    \n",
    "\n",
    "print('Original Matrix: ', ([[1, 2, 3], [4, 5, 6], [7, 8, 9]]))\n",
    "print('Rotated Matrix: ', RotateMatrix([[1, 2, 3], [4, 5, 6], [7, 8, 9]]))\n",
    "\n",
    "#Run time is O(N*N) "
   ]
  },
  {
   "cell_type": "code",
   "execution_count": null,
   "metadata": {},
   "outputs": [],
   "source": []
  },
  {
   "cell_type": "code",
   "execution_count": null,
   "metadata": {},
   "outputs": [],
   "source": []
  },
  {
   "cell_type": "code",
   "execution_count": 20,
   "metadata": {},
   "outputs": [
    {
     "data": {
      "text/plain": [
       "'\\nQ8. Zero Matrix, whenever a zero is found in M*N matrix, set it\\'s entire row and column to \"0\"\\n\\n'"
      ]
     },
     "execution_count": 20,
     "metadata": {},
     "output_type": "execute_result"
    }
   ],
   "source": [
    "'''\n",
    "Q8. Zero Matrix, whenever a zero is found in M*N matrix, set it's entire row and column to \"0\"\n",
    "\n",
    "'''"
   ]
  },
  {
   "cell_type": "code",
   "execution_count": 36,
   "metadata": {},
   "outputs": [
    {
     "name": "stdout",
     "output_type": "stream",
     "text": [
      "Original Matrix:  [[1, 2, 3, 4, 0], [6, 0, 8, 9, 10], [11, 12, 13, 14, 15], [16, 0, 18, 19, 20], [21, 22, 23, 24, 25]]\n",
      "Rotated Matrix:  [[0, 0, 0, 0, 0], [0, 0, 0, 0, 0], [11, 0, 13, 14, 0], [0, 0, 0, 0, 0], [21, 0, 23, 24, 0]]\n"
     ]
    }
   ],
   "source": [
    "#Ans Q8 \n",
    "\n",
    "#Approach 1\n",
    "\n",
    "\n",
    "def ZeroMatrix(matrix):\n",
    "    #Getting the location of \"0\" in matrix and store it in a list\n",
    "    zero_loc_row = []\n",
    "    zero_loc_col = []\n",
    "    \n",
    "    #Time complexity, O(M*N) -> as there are nested loop, with M*N\n",
    "    for i in range(len(matrix)):\n",
    "        for j in range(len(matrix[i])):\n",
    "            if matrix[i][j] == 0:\n",
    "                zero_loc_row.append(i)\n",
    "                zero_loc_col.append(j)\n",
    "    \n",
    "    #Time complexity, O(M*N) -> as there are nested loop, with M*N\n",
    "    for i in range(len(matrix)):\n",
    "        for j in range(len(matrix[i])):\n",
    "            if i in zero_loc_row or j in zero_loc_col:\n",
    "                matrix[i][j] = 0\n",
    "        \n",
    "    return matrix\n",
    "    \n",
    "\n",
    "print('Original Matrix: ', ([\n",
    "                [1, 2, 3, 4, 0],\n",
    "                [6, 0, 8, 9, 10],\n",
    "                [11, 12, 13, 14, 15],\n",
    "                [16, 0, 18, 19, 20],\n",
    "                [21, 22, 23, 24, 25],\n",
    "            ]))\n",
    "print('Rotated Matrix: ', ZeroMatrix([\n",
    "                [1, 2, 3, 4, 0],\n",
    "                [6, 0, 8, 9, 10],\n",
    "                [11, 12, 13, 14, 15],\n",
    "                [16, 0, 18, 19, 20],\n",
    "                [21, 22, 23, 24, 25],\n",
    "            ]))\n",
    "\n",
    "#Run time is O(2*M*N) ==> O(M*N)"
   ]
  },
  {
   "cell_type": "code",
   "execution_count": null,
   "metadata": {},
   "outputs": [],
   "source": []
  },
  {
   "cell_type": "code",
   "execution_count": null,
   "metadata": {},
   "outputs": [],
   "source": []
  },
  {
   "cell_type": "code",
   "execution_count": 37,
   "metadata": {},
   "outputs": [
    {
     "data": {
      "text/plain": [
       "'\\nQ9. Find if S2 is a rotation of S1 using only 1 call to isSubstring. IsSubstring is a function which checks if \\n    one word is a substring of another.\\n\\n'"
      ]
     },
     "execution_count": 37,
     "metadata": {},
     "output_type": "execute_result"
    }
   ],
   "source": [
    "'''\n",
    "Q9. Find if S2 is a rotation of S1 using only 1 call to isSubstring. IsSubstring is a function which checks if \n",
    "    one word is a substring of another.\n",
    "\n",
    "'''"
   ]
  },
  {
   "cell_type": "code",
   "execution_count": 52,
   "metadata": {},
   "outputs": [
    {
     "name": "stdout",
     "output_type": "stream",
     "text": [
      "Rotated Matrix:  False\n"
     ]
    }
   ],
   "source": [
    "#Ans Q9\n",
    "\n",
    "#Approach 1\n",
    "\n",
    "\n",
    "def isSubstring(s1, s2):\n",
    "    if len(s1)==0 or len(s2)==0 or len(s1)!=len(s2):\n",
    "        return False\n",
    "    else:\n",
    "        if s2 in s1+s1:   #O(N) ==> time complexity\n",
    "            return True\n",
    "        else:\n",
    "            return False\n",
    "        \n",
    "\n",
    "print('Rotated Matrix: ', isSubstring(\"foo\", \"foofoo\"))\n",
    "\n",
    "#Run time is O(2*MN) ==> O(N)"
   ]
  },
  {
   "cell_type": "code",
   "execution_count": 62,
   "metadata": {},
   "outputs": [
    {
     "name": "stdout",
     "output_type": "stream",
     "text": [
      "Rotated Matrix:  3\n"
     ]
    }
   ],
   "source": [
    "#Ans Q9\n",
    "\n",
    "#Approach 2 --> Finding at what point it's rotating\n",
    "\n",
    "\n",
    "def isSubstring(s1, s2):\n",
    "    if len(s1)==0 or len(s2)==0 or len(s1)!=len(s2):\n",
    "        return False\n",
    "    else:\n",
    "        rotate = 1\n",
    "        for i in range(len(s1)):\n",
    "            if s1[rotate-1:] + s1[:rotate-1] == s2:\n",
    "                return rotate\n",
    "            else:\n",
    "                rotate+=1\n",
    "            \n",
    "\n",
    "print('Rotated Matrix: ', isSubstring(\"ababc\", \"abcab\"))\n",
    "\n",
    "#Run time is O(2*MN) ==> O(N)"
   ]
  },
  {
   "cell_type": "code",
   "execution_count": null,
   "metadata": {},
   "outputs": [],
   "source": []
  },
  {
   "cell_type": "code",
   "execution_count": null,
   "metadata": {},
   "outputs": [],
   "source": []
  },
  {
   "cell_type": "code",
   "execution_count": null,
   "metadata": {},
   "outputs": [],
   "source": []
  },
  {
   "cell_type": "markdown",
   "metadata": {},
   "source": [
    "# Linked Lists"
   ]
  },
  {
   "cell_type": "code",
   "execution_count": null,
   "metadata": {},
   "outputs": [],
   "source": []
  },
  {
   "cell_type": "code",
   "execution_count": null,
   "metadata": {},
   "outputs": [],
   "source": []
  }
 ],
 "metadata": {
  "kernelspec": {
   "display_name": "Python 3",
   "language": "python",
   "name": "python3"
  },
  "language_info": {
   "codemirror_mode": {
    "name": "ipython",
    "version": 3
   },
   "file_extension": ".py",
   "mimetype": "text/x-python",
   "name": "python",
   "nbconvert_exporter": "python",
   "pygments_lexer": "ipython3",
   "version": "3.6.5"
  }
 },
 "nbformat": 4,
 "nbformat_minor": 2
}
