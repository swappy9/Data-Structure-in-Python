{
 "cells": [
  {
   "cell_type": "code",
   "execution_count": 2,
   "metadata": {},
   "outputs": [],
   "source": [
    "import numpy as np\n",
    "import pandas as pd\n",
    "from queue import deque\n",
    "import sys"
   ]
  },
  {
   "cell_type": "code",
   "execution_count": null,
   "metadata": {},
   "outputs": [],
   "source": []
  },
  {
   "cell_type": "code",
   "execution_count": 3,
   "metadata": {},
   "outputs": [],
   "source": [
    "#Implementing a basic Binary Tree"
   ]
  },
  {
   "cell_type": "code",
   "execution_count": 4,
   "metadata": {},
   "outputs": [
    {
     "name": "stdout",
     "output_type": "stream",
     "text": [
      "8\n"
     ]
    }
   ],
   "source": [
    "class Node:\n",
    "    def __init__(self, data):\n",
    "        self.data = data\n",
    "        self.parent = None\n",
    "        self.left = None\n",
    "        self.right = None\n",
    "        \n",
    "        \n",
    "class BinaryTree:\n",
    "    \n",
    "    def __init__(self):\n",
    "        self.root = None\n",
    "        \n",
    "    \n",
    "    def insert(self, data, parent):\n",
    "        newnode = Node(data)\n",
    "        \n",
    "        if parent is None:\n",
    "            if self.root is None:\n",
    "                self.root = newnode\n",
    "                return newnode\n",
    "            raise Exception(\"A root node already exists\")\n",
    "            \n",
    "        if not parent.left:\n",
    "            parent.left = newnode\n",
    "            newnode.parent = parent\n",
    "            \n",
    "        elif not parent.right:\n",
    "            parent.right = newnode\n",
    "            newnode.parent = parent\n",
    "            \n",
    "        else:\n",
    "            raise Exception(\"A node cannot have more than 2 childrens\")\n",
    "            \n",
    "        return newnode\n",
    "    \n",
    "    \n",
    "def example():\n",
    "    t = BinaryTree()\n",
    "    n1 = t.insert(1, None)\n",
    "    n2 = t.insert(2, n1)\n",
    "    n3 = t.insert(3, n1)\n",
    "    n4 = t.insert(4, n2)\n",
    "    t.insert(5, n2)\n",
    "    t.insert(7, n3)\n",
    "    t.insert(8, n4)\n",
    "\n",
    "    print(t.root.left.left.left.data)\n",
    "    \n",
    "\n",
    "    \n",
    "if __name__==\"__main__\":\n",
    "    example()"
   ]
  },
  {
   "cell_type": "code",
   "execution_count": null,
   "metadata": {},
   "outputs": [],
   "source": []
  },
  {
   "cell_type": "code",
   "execution_count": null,
   "metadata": {},
   "outputs": [],
   "source": []
  },
  {
   "cell_type": "code",
   "execution_count": 5,
   "metadata": {},
   "outputs": [],
   "source": [
    "#Implementing a basic Binary Search Tree"
   ]
  },
  {
   "cell_type": "code",
   "execution_count": 6,
   "metadata": {},
   "outputs": [
    {
     "name": "stdout",
     "output_type": "stream",
     "text": [
      "5\n"
     ]
    }
   ],
   "source": [
    "class Node:\n",
    "    def __init__(self, data):\n",
    "        self.data = data\n",
    "        self.parent = None\n",
    "        self.left = None\n",
    "        self.right = None\n",
    "        \n",
    "        \n",
    "class BinarySearchTree:\n",
    "    \n",
    "    def __init__(self):\n",
    "        self.root = None\n",
    "        \n",
    "    def insert(self, data):\n",
    "        newnode = Node(data)\n",
    "        \n",
    "        if self.root is None:\n",
    "            self.root = newnode\n",
    "            return\n",
    "        \n",
    "        current = self.root\n",
    "        while current:\n",
    "            if current.data > data:\n",
    "                if current.left is None:\n",
    "                    current.left = newnode\n",
    "                    newnode.parent = current\n",
    "                    return\n",
    "                \n",
    "                current = current.left\n",
    "                \n",
    "            else:\n",
    "                if current.right is None:\n",
    "                    current.right = newnode\n",
    "                    newnode.parent = current\n",
    "                    return\n",
    "                \n",
    "                current = current.right\n",
    "                \n",
    "                \n",
    "                \n",
    "def example():\n",
    "    bst = BinarySearchTree()\n",
    "    bst.insert(20)\n",
    "    bst.insert(9)\n",
    "    bst.insert(25)\n",
    "    bst.insert(5)\n",
    "    bst.insert(12)\n",
    "    bst.insert(11)\n",
    "    bst.insert(14)\n",
    "    print(bst.root.left.left.data)\n",
    "    \n",
    "if __name__ == \"__main__\":\n",
    "    example()\n",
    "                "
   ]
  },
  {
   "cell_type": "code",
   "execution_count": null,
   "metadata": {},
   "outputs": [],
   "source": []
  },
  {
   "cell_type": "code",
   "execution_count": null,
   "metadata": {},
   "outputs": [],
   "source": []
  },
  {
   "cell_type": "code",
   "execution_count": 7,
   "metadata": {},
   "outputs": [
    {
     "data": {
      "text/plain": [
       "'\\nQ1. Minimal Tree: Given a sorted array, with unique int, write an algo to create a binary search tree with minimal height\\n'"
      ]
     },
     "execution_count": 7,
     "metadata": {},
     "output_type": "execute_result"
    }
   ],
   "source": [
    "'''\n",
    "Q1. Minimal Tree: Given a sorted array, with unique int, write an algo to create a binary search tree with minimal height\n",
    "'''"
   ]
  },
  {
   "cell_type": "code",
   "execution_count": 8,
   "metadata": {},
   "outputs": [
    {
     "name": "stdout",
     "output_type": "stream",
     "text": [
      "5\n",
      "L:2\n",
      "  L:1\n",
      "  R:3\n",
      "    R:4\n",
      "R:8\n",
      "  L:6\n",
      "    R:7\n",
      "  R:9\n",
      "    R:10\n",
      "\n"
     ]
    }
   ],
   "source": [
    "#Ans1. \n",
    "#Logic: To create a minimal BST, left portion of the tree should be as equal as right portion. So, the middle of the array\n",
    "# would be root and then left sub portion of the array will go to left and right portion to the right\n",
    "\n",
    "\n",
    "class Node:\n",
    "    def __init__(self, data):\n",
    "        self.data = data\n",
    "        self.left = None\n",
    "        self.right = None\n",
    "        \n",
    "        \n",
    "    def disp(self, nesting=0):\n",
    "        indent = \" \" * nesting * 2\n",
    "        output = f\"{self.data}\\n\"\n",
    "        if self.left is not None:\n",
    "            output += f\"{indent}L:\"\n",
    "            output += self.left.disp(nesting + 1)\n",
    "        if self.right is not None:\n",
    "            output += f\"{indent}R:\"\n",
    "            output += self.right.disp(nesting + 1)\n",
    "        return output\n",
    "\n",
    "    def __str__(self):\n",
    "        return self.disp()\n",
    "        \n",
    "        \n",
    "def MinimalBST(arr, start, end):\n",
    "    \n",
    "    if start > end:\n",
    "        return None\n",
    "    \n",
    "    mid = (start + end)//2\n",
    "    root = Node(arr[mid])\n",
    "    root.left = MinimalBST(arr, start, mid-1 )\n",
    "    root.right = MinimalBST(arr, mid+1, end)\n",
    "    \n",
    "    return root\n",
    "\n",
    "\n",
    "\n",
    "if __name__ == \"__main__\":\n",
    "    test_array = [1, 2, 3, 4, 5, 6, 7, 8, 9, 10]\n",
    "    print(MinimalBST(test_array, 0, len(test_array) - 1))"
   ]
  },
  {
   "cell_type": "code",
   "execution_count": null,
   "metadata": {},
   "outputs": [],
   "source": []
  },
  {
   "cell_type": "code",
   "execution_count": null,
   "metadata": {},
   "outputs": [],
   "source": []
  },
  {
   "cell_type": "code",
   "execution_count": 9,
   "metadata": {},
   "outputs": [
    {
     "data": {
      "text/plain": [
       "'\\nQ2. Given a binary tree, design an algo which creates a linked list of all the nodes at each depth. If tree is of depth D, \\nthere should be D linked list\\n'"
      ]
     },
     "execution_count": 9,
     "metadata": {},
     "output_type": "execute_result"
    }
   ],
   "source": [
    "'''\n",
    "Q2. Given a binary tree, design an algo which creates a linked list of all the nodes at each depth. If tree is of depth D, \n",
    "there should be D linked list\n",
    "'''"
   ]
  },
  {
   "cell_type": "code",
   "execution_count": 10,
   "metadata": {},
   "outputs": [
    {
     "name": "stdout",
     "output_type": "stream",
     "text": [
      "Linked list at level 0\n",
      "1\n",
      "Linked list at level 1\n",
      "2\n",
      "3\n",
      "Linked list at level 2\n",
      "4\n",
      "5\n",
      "7\n",
      "Linked list at level 3\n",
      "8\n"
     ]
    }
   ],
   "source": [
    "#Ans2.\n",
    "\n",
    "#Class to initialize a Node for a Binary Tree\n",
    "class Node:\n",
    "    def __init__(self, data):\n",
    "        self.data = data\n",
    "        self.parent = None\n",
    "        self.left = None\n",
    "        self.right = None\n",
    "\n",
    "#Class to initialize a Node for a Linked List\n",
    "class LinkedListNode:\n",
    "    def __init__(self, data):\n",
    "        self.data = data\n",
    "        self.next = None\n",
    "        \n",
    "        \n",
    "#Class to create a binary tree \n",
    "class BinaryTree:\n",
    "    \n",
    "    def __init__(self):\n",
    "        self.root = None\n",
    "        \n",
    "    def insert(self, data, parent):\n",
    "        newnode = Node(data)\n",
    "        if parent is None:\n",
    "            if self.root is None:\n",
    "                self.root = newnode\n",
    "                return newnode\n",
    "            raise Exception(\"A root node already exists\")\n",
    "        if not parent.left:\n",
    "            parent.left = newnode\n",
    "            newnode.parent = parent\n",
    "        elif not parent.right:\n",
    "            parent.right = newnode\n",
    "            newnode.parent = parent\n",
    "        else:\n",
    "            raise Exception(\"A node cannot have more than 2 childrens\")\n",
    "            \n",
    "        return newnode\n",
    "    \n",
    "    \n",
    "    #Function to get the list of nodes at each level of the binary tree\n",
    "    def get_levels(self, root):\n",
    "        levels = {}\n",
    "        q = deque()\n",
    "        q.append((root, 0))\n",
    "\n",
    "        while q:\n",
    "            node, level = q.popleft()\n",
    "            if level not in levels:\n",
    "                levels[level] = [node.data]\n",
    "            else:\n",
    "                levels[level].append(node.data)\n",
    "            if node.left:\n",
    "                q.append((node.left, level+1))\n",
    "            if node.right:\n",
    "                q.append((node.right, level+1))\n",
    "\n",
    "        return levels\n",
    "    \n",
    "\n",
    "#Class to create a linked list and display it\n",
    "class LinkedList:\n",
    "    \n",
    "    def __init__(self):\n",
    "        self.start = None\n",
    "        \n",
    "    #Inserting an element in last\n",
    "    def insertAtLast(self, value):\n",
    "        new_node = LinkedListNode(value)\n",
    "        if (self.start==None):\n",
    "            self.start = new_node;\n",
    "        else:\n",
    "            temp = self.start\n",
    "            while temp.next!=None:\n",
    "                temp=temp.next\n",
    "            temp.next = new_node;\n",
    "            \n",
    "            \n",
    "    #Defining function to print\n",
    "    def viewList(self):\n",
    "        if (self.start==None):\n",
    "            print(\"There are no elements in the list\")\n",
    "        else:\n",
    "            temp = self.start\n",
    "            while temp.next!=None:\n",
    "                print(temp.data)\n",
    "                temp=temp.next\n",
    "            print(temp.data)\n",
    "        \n",
    "    \n",
    "\n",
    "\n",
    "def example():\n",
    "    t = BinaryTree()\n",
    "    n1 = t.insert(1, None)\n",
    "    n2 = t.insert(2, n1)\n",
    "    n3 = t.insert(3, n1)\n",
    "    n4 = t.insert(4, n2)\n",
    "    t.insert(5, n2)\n",
    "    t.insert(7, n3)\n",
    "    t.insert(8, n4)\n",
    "    \n",
    "    #Calling the get_levels method to get the list of nodes at each level\n",
    "    levels = t.get_levels(n1)\n",
    "    \n",
    "    #Iterating through each level to create linked lists and view\n",
    "    for key, value in levels.items():\n",
    "        print(\"Linked list at level\", key)\n",
    "        t = LinkedList()\n",
    "        for v in value:\n",
    "            t.insertAtLast(v)\n",
    "        t.viewList()\n",
    "    \n",
    "    \n",
    "if __name__==\"__main__\":\n",
    "    example()"
   ]
  },
  {
   "cell_type": "code",
   "execution_count": null,
   "metadata": {},
   "outputs": [],
   "source": []
  },
  {
   "cell_type": "code",
   "execution_count": null,
   "metadata": {},
   "outputs": [],
   "source": []
  },
  {
   "cell_type": "code",
   "execution_count": 11,
   "metadata": {},
   "outputs": [
    {
     "data": {
      "text/plain": [
       "'\\nQ3. Check if a binary tree is balanced. Balanced tree is defined such that the heights of two subtrees of any node never\\ndiffer by more than one.\\n\\n'"
      ]
     },
     "execution_count": 11,
     "metadata": {},
     "output_type": "execute_result"
    }
   ],
   "source": [
    "'''\n",
    "Q3. Check if a binary tree is balanced. Balanced tree is defined such that the heights of two subtrees of any node never\n",
    "differ by more than one.\n",
    "\n",
    "'''"
   ]
  },
  {
   "cell_type": "code",
   "execution_count": 12,
   "metadata": {},
   "outputs": [
    {
     "name": "stdout",
     "output_type": "stream",
     "text": [
      "Node: 1\n"
     ]
    },
    {
     "ename": "KeyboardInterrupt",
     "evalue": "",
     "output_type": "error",
     "traceback": [
      "\u001b[1;31m---------------------------------------------------------------------------\u001b[0m",
      "\u001b[1;31mKeyboardInterrupt\u001b[0m                         Traceback (most recent call last)",
      "\u001b[1;32m<ipython-input-12-2443221aa823>\u001b[0m in \u001b[0;36m<module>\u001b[1;34m\u001b[0m\n\u001b[0;32m     84\u001b[0m \u001b[1;33m\u001b[0m\u001b[0m\n\u001b[0;32m     85\u001b[0m \u001b[1;32mif\u001b[0m \u001b[0m__name__\u001b[0m\u001b[1;33m==\u001b[0m\u001b[1;34m\"__main__\"\u001b[0m\u001b[1;33m:\u001b[0m\u001b[1;33m\u001b[0m\u001b[0m\n\u001b[1;32m---> 86\u001b[1;33m     \u001b[0mexample\u001b[0m\u001b[1;33m(\u001b[0m\u001b[1;33m)\u001b[0m\u001b[1;33m\u001b[0m\u001b[0m\n\u001b[0m",
      "\u001b[1;32m<ipython-input-12-2443221aa823>\u001b[0m in \u001b[0;36mexample\u001b[1;34m()\u001b[0m\n\u001b[0;32m     79\u001b[0m \u001b[1;33m\u001b[0m\u001b[0m\n\u001b[0;32m     80\u001b[0m     \u001b[1;31m#Calling the get_levels method to get the list of nodes at each level\u001b[0m\u001b[1;33m\u001b[0m\u001b[1;33m\u001b[0m\u001b[0m\n\u001b[1;32m---> 81\u001b[1;33m     \u001b[0mlevels\u001b[0m \u001b[1;33m=\u001b[0m \u001b[0mcheck_levels\u001b[0m\u001b[1;33m(\u001b[0m\u001b[0mn1\u001b[0m\u001b[1;33m)\u001b[0m\u001b[1;33m\u001b[0m\u001b[0m\n\u001b[0m\u001b[0;32m     82\u001b[0m     \u001b[0mprint\u001b[0m\u001b[1;33m(\u001b[0m\u001b[0mlevels\u001b[0m\u001b[1;33m)\u001b[0m\u001b[1;33m\u001b[0m\u001b[0m\n\u001b[0;32m     83\u001b[0m \u001b[1;33m\u001b[0m\u001b[0m\n",
      "\u001b[1;32m<ipython-input-12-2443221aa823>\u001b[0m in \u001b[0;36mcheck_levels\u001b[1;34m(node, l_count, r_count, q)\u001b[0m\n\u001b[0;32m     52\u001b[0m \u001b[1;33m\u001b[0m\u001b[0m\n\u001b[0;32m     53\u001b[0m         \u001b[0mnode\u001b[0m \u001b[1;33m=\u001b[0m \u001b[0mt\u001b[0m\u001b[1;33m\u001b[0m\u001b[0m\n\u001b[1;32m---> 54\u001b[1;33m         \u001b[1;32mwhile\u001b[0m \u001b[0mnode\u001b[0m\u001b[1;33m.\u001b[0m\u001b[0mright\u001b[0m \u001b[1;32mor\u001b[0m \u001b[0mnode\u001b[0m\u001b[1;33m.\u001b[0m\u001b[0mleft\u001b[0m\u001b[1;33m:\u001b[0m\u001b[1;33m\u001b[0m\u001b[0m\n\u001b[0m\u001b[0;32m     55\u001b[0m             \u001b[1;32mif\u001b[0m \u001b[0mnode\u001b[0m\u001b[1;33m.\u001b[0m\u001b[0mright\u001b[0m\u001b[1;33m:\u001b[0m\u001b[1;33m\u001b[0m\u001b[0m\n\u001b[0;32m     56\u001b[0m                 \u001b[0mr_count\u001b[0m\u001b[1;33m+=\u001b[0m\u001b[1;36m1\u001b[0m\u001b[1;33m\u001b[0m\u001b[0m\n",
      "\u001b[1;31mKeyboardInterrupt\u001b[0m: "
     ]
    }
   ],
   "source": [
    "#Ans3.\n",
    "\n",
    "#Class to initialize a Node for a Binary Tree\n",
    "class Node:\n",
    "    def __init__(self, data):\n",
    "        self.data = data\n",
    "        self.parent = None\n",
    "        self.left = None\n",
    "        self.right = None\n",
    "        \n",
    "        \n",
    "#Class to create a binary tree \n",
    "class BinaryTree:\n",
    "    \n",
    "    def __init__(self):\n",
    "        self.root = None\n",
    "        \n",
    "    def insert(self, data, parent):\n",
    "        newnode = Node(data)\n",
    "        if parent is None:\n",
    "            if self.root is None:\n",
    "                self.root = newnode\n",
    "                return newnode\n",
    "            raise Exception(\"A root node already exists\")\n",
    "        if not parent.left:\n",
    "            parent.left = newnode\n",
    "            newnode.parent = parent\n",
    "        elif not parent.right:\n",
    "            parent.right = newnode\n",
    "            newnode.parent = parent\n",
    "        else:\n",
    "            raise Exception(\"A node cannot have more than 2 childrens\")\n",
    "            \n",
    "        return newnode\n",
    "    \n",
    "    \n",
    "#Approach1\n",
    "def check_levels(node, l_count=0, r_count=0, q=deque()):\n",
    "\n",
    "    q.append(node)\n",
    "    while q:\n",
    "        node = q.popleft()\n",
    "        t = node\n",
    "        print(\"Node:\", node.data)\n",
    "        while node.left or node.right:\n",
    "            if node.left:\n",
    "                l_count+=1\n",
    "                node= node.left\n",
    "            elif node.right:\n",
    "                l_count+=1\n",
    "                node= node.right\n",
    "        \n",
    "        node = t\n",
    "        while node.right or node.left:\n",
    "            if node.right:\n",
    "                r_count+=1\n",
    "                node= node.right\n",
    "            elif node.left:\n",
    "                r_count+=1\n",
    "                \n",
    "        print(l_count, r_count)\n",
    "#         if l_count-r_count>1 or l_count-rount<-1:\n",
    "#             return False\n",
    "    \n",
    "    return True\n",
    "    \n",
    "\n",
    "def example():\n",
    "    t = BinaryTree()\n",
    "    n1 = t.insert(1, None)\n",
    "    n2 = t.insert(2, n1)\n",
    "    n3 = t.insert(3, n1)\n",
    "    n4 = t.insert(4, n2)\n",
    "    t.insert(5, n2)\n",
    "    t.insert(7, n3)\n",
    "    n8 = t.insert(8, n4)\n",
    "    t.insert(9, n4)\n",
    "    t.insert(10, n8)\n",
    "    \n",
    "    #Calling the get_levels method to get the list of nodes at each level\n",
    "    levels = check_levels(n1)\n",
    "    print(levels)\n",
    "\n",
    "    \n",
    "if __name__==\"__main__\":\n",
    "    example()"
   ]
  },
  {
   "cell_type": "code",
   "execution_count": null,
   "metadata": {},
   "outputs": [],
   "source": []
  },
  {
   "cell_type": "code",
   "execution_count": null,
   "metadata": {},
   "outputs": [],
   "source": []
  },
  {
   "cell_type": "code",
   "execution_count": 13,
   "metadata": {},
   "outputs": [
    {
     "data": {
      "text/plain": [
       "'\\nQ4. Implement a function to check if the binary tree is binary search tree\\n\\n'"
      ]
     },
     "execution_count": 13,
     "metadata": {},
     "output_type": "execute_result"
    }
   ],
   "source": [
    "'''\n",
    "Q4. Implement a function to check if the binary tree is binary search tree\n",
    "\n",
    "'''"
   ]
  },
  {
   "cell_type": "code",
   "execution_count": 14,
   "metadata": {},
   "outputs": [
    {
     "name": "stdout",
     "output_type": "stream",
     "text": [
      "Is the Binary Tree a Binary Search Tree: True\n",
      "Is the Binary Tree a Binary Search Tree: False\n"
     ]
    }
   ],
   "source": [
    "#Ans4.\n",
    "\n",
    "#Class to initialize a Node for a Binary Tree\n",
    "class Node:\n",
    "    def __init__(self, data):\n",
    "        self.data = data\n",
    "        self.parent = None\n",
    "        self.left = None\n",
    "        self.right = None\n",
    "        \n",
    "        \n",
    "#Class to create a binary tree \n",
    "class BinaryTree:\n",
    "    \n",
    "    def __init__(self):\n",
    "        self.root = None\n",
    "        \n",
    "    def insert(self, data, parent):\n",
    "        newnode = Node(data)\n",
    "        if parent is None:\n",
    "            if self.root is None:\n",
    "                self.root = newnode\n",
    "                return newnode\n",
    "            raise Exception(\"A root node already exists\")\n",
    "        if not parent.left:\n",
    "            parent.left = newnode\n",
    "            newnode.parent = parent\n",
    "        elif not parent.right:\n",
    "            parent.right = newnode\n",
    "            newnode.parent = parent\n",
    "        else:\n",
    "            raise Exception(\"A node cannot have more than 2 childrens\")\n",
    "            \n",
    "        return newnode\n",
    "\n",
    "    \n",
    "#Wrong Approach, bc if there is any right child that is greater than the root\n",
    "def isBST(root):\n",
    "    if root is None:\n",
    "        return True\n",
    "    if root.left and root.left.data > root.data:\n",
    "        return False\n",
    "    if root.right and root.right.data < root.data:\n",
    "        return False\n",
    "    \n",
    "    return isBST(root.left) and isBST(root.right)\n",
    "\n",
    "\n",
    "#Right Approach, we need to pass some kind of min and max condition when checking nodes in lower tree\n",
    "def isBST2(root, min=-sys.maxsize, max=sys.maxsize):\n",
    "    if root is None:\n",
    "        return True\n",
    "    if (root.data > min and root.data < max and \n",
    "        isBST2(root.left, min, root.data) and isBST2(root.right, root.data, max)):\n",
    "        return True\n",
    "    else:\n",
    "        return False\n",
    "    \n",
    "\n",
    "def example():\n",
    "    t = BinaryTree()\n",
    "    n1 = t.insert(3, None)\n",
    "    n2 = t.insert(2, n1)\n",
    "    n3 = t.insert(5, n1)\n",
    "    n4 = t.insert(1, n2)\n",
    "    t.insert(4, n2)\n",
    "#     t.insert(5, n3)\n",
    "#     t.insert(2, n4)\n",
    "    \n",
    "    print(\"Is the Binary Tree a Binary Search Tree:\", isBST(n1))\n",
    "    print(\"Is the Binary Tree a Binary Search Tree:\", isBST2(n1))\n",
    "\n",
    "    \n",
    "if __name__==\"__main__\":\n",
    "    example()\n",
    "            "
   ]
  },
  {
   "cell_type": "code",
   "execution_count": null,
   "metadata": {},
   "outputs": [],
   "source": []
  },
  {
   "cell_type": "code",
   "execution_count": null,
   "metadata": {},
   "outputs": [],
   "source": []
  },
  {
   "cell_type": "code",
   "execution_count": 15,
   "metadata": {},
   "outputs": [
    {
     "data": {
      "text/plain": [
       "'\\nQ5. Algo to find the inorder successor of the node\\n'"
      ]
     },
     "execution_count": 15,
     "metadata": {},
     "output_type": "execute_result"
    }
   ],
   "source": [
    "'''\n",
    "Q5. Algo to find the inorder successor of the node\n",
    "'''"
   ]
  },
  {
   "cell_type": "code",
   "execution_count": 16,
   "metadata": {},
   "outputs": [
    {
     "name": "stdout",
     "output_type": "stream",
     "text": [
      "Inorder traversal of tree: [2, 1, 2, 4, 3, 5, 5]\n",
      "First inorder successor: 3\n"
     ]
    }
   ],
   "source": [
    "#Ans5.\n",
    "\n",
    "#Class to initialize a Node for a Binary Tree\n",
    "class Node:\n",
    "    def __init__(self, data):\n",
    "        self.data = data\n",
    "        self.parent = None\n",
    "        self.left = None\n",
    "        self.right = None\n",
    "        \n",
    "        \n",
    "#Class to create a binary tree \n",
    "class BinaryTree:\n",
    "    \n",
    "    def __init__(self):\n",
    "        self.root = None\n",
    "        \n",
    "    def insert(self, data, parent):\n",
    "        newnode = Node(data)\n",
    "        if parent is None:\n",
    "            if self.root is None:\n",
    "                self.root = newnode\n",
    "                return newnode\n",
    "            raise Exception(\"A root node already exists\")\n",
    "        if not parent.left:\n",
    "            parent.left = newnode\n",
    "            newnode.parent = parent\n",
    "        elif not parent.right:\n",
    "            parent.right = newnode\n",
    "            newnode.parent = parent\n",
    "        else:\n",
    "            raise Exception(\"A node cannot have more than 2 childrens\")\n",
    "            \n",
    "        return newnode\n",
    "\n",
    "    \n",
    "#Inorder traversal code for the tree\n",
    "inorder = []   \n",
    "def inordertrav(root):\n",
    "    if root.left:\n",
    "        inordertrav(root.left)\n",
    "        \n",
    "    inorder.append(root.data)\n",
    "        \n",
    "    if root.right:\n",
    "        inordertrav(root.right)\n",
    "        \n",
    "    return inorder\n",
    "        \n",
    "\n",
    "#Function to get the succesor of a node in an in-order traversal\n",
    "def inorderSucc(root, node):\n",
    "    inorder = inordertrav(root)\n",
    "    return inorder[inorder.index(node)+1]\n",
    "\n",
    "\n",
    "\n",
    "def example():\n",
    "    t = BinaryTree()\n",
    "    n1 = t.insert(3, None)\n",
    "    n2 = t.insert(2, n1)\n",
    "    n3 = t.insert(5, n1)\n",
    "    n4 = t.insert(1, n2)\n",
    "    t.insert(4, n2)\n",
    "    t.insert(5, n3)\n",
    "    t.insert(2, n4)\n",
    "    \n",
    "    print(\"Inorder traversal of tree:\", inordertrav(n1))\n",
    "    print(\"First inorder successor:\", inorderSucc(n1, 4))\n",
    "    \n",
    "if __name__==\"__main__\":\n",
    "    example()\n",
    "            "
   ]
  },
  {
   "cell_type": "code",
   "execution_count": null,
   "metadata": {},
   "outputs": [],
   "source": []
  },
  {
   "cell_type": "code",
   "execution_count": null,
   "metadata": {},
   "outputs": [],
   "source": []
  },
  {
   "cell_type": "code",
   "execution_count": 17,
   "metadata": {},
   "outputs": [
    {
     "data": {
      "text/plain": [
       "'\\nQ6. Find the build order that will allow the projects to be built, given a list of projects and a list of dependencies.\\n'"
      ]
     },
     "execution_count": 17,
     "metadata": {},
     "output_type": "execute_result"
    }
   ],
   "source": [
    "'''\n",
    "Q6. Find the build order that will allow the projects to be built, given a list of projects and a list of dependencies.\n",
    "'''"
   ]
  },
  {
   "cell_type": "code",
   "execution_count": null,
   "metadata": {},
   "outputs": [],
   "source": []
  },
  {
   "cell_type": "code",
   "execution_count": 18,
   "metadata": {},
   "outputs": [
    {
     "data": {
      "text/plain": [
       "'\\nQ7. Find first common ancestor of two nodes in a binary tree\\n'"
      ]
     },
     "execution_count": 18,
     "metadata": {},
     "output_type": "execute_result"
    }
   ],
   "source": [
    "'''\n",
    "Q7. Find first common ancestor of two nodes in a binary tree\n",
    "'''"
   ]
  },
  {
   "cell_type": "code",
   "execution_count": 19,
   "metadata": {},
   "outputs": [
    {
     "name": "stdout",
     "output_type": "stream",
     "text": [
      "First common ancestor of two nodes: 2\n"
     ]
    }
   ],
   "source": [
    "#Ans7.\n",
    "#Approach: Since 2 nodes can be on any level of the tree, we try to bring the nodes at same level and then the root node\n",
    "#would be the common ancestor\n",
    "\n",
    "#Class to initialize a Node for a Binary Tree\n",
    "class Node:\n",
    "    def __init__(self, data):\n",
    "        self.data = data\n",
    "        self.parent = None\n",
    "        self.left = None\n",
    "        self.right = None\n",
    "        \n",
    "        \n",
    "#Class to create a binary tree \n",
    "class BinaryTree:\n",
    "    \n",
    "    def __init__(self):\n",
    "        self.root = None\n",
    "        \n",
    "    def insert(self, data, parent):\n",
    "        newnode = Node(data)\n",
    "        if parent is None:\n",
    "            if self.root is None:\n",
    "                self.root = newnode\n",
    "                return newnode\n",
    "            raise Exception(\"A root node already exists\")\n",
    "        if not parent.left:\n",
    "            parent.left = newnode\n",
    "            newnode.parent = parent\n",
    "        elif not parent.right:\n",
    "            parent.right = newnode\n",
    "            newnode.parent = parent\n",
    "        else:\n",
    "            raise Exception(\"A node cannot have more than 2 childrens\")\n",
    "            \n",
    "        return newnode\n",
    "\n",
    "    \n",
    "def firstancestor(node1, node2):\n",
    "    \n",
    "    node1_depth = getDepth(node1)\n",
    "    node2_depth = getDepth(node2)\n",
    "    depth_diff = abs(node1_depth - node2_depth)\n",
    "    \n",
    "    if node1_depth > node2_depth:\n",
    "        for _ in range(depth_diff):\n",
    "            node1 = node1.parent\n",
    "            \n",
    "    elif node1_depth < node2_depth:\n",
    "        for _ in range(depth_diff):\n",
    "            node2 = node2.parent\n",
    "            \n",
    "    \n",
    "    anc1 = node1\n",
    "    anc2 = node2\n",
    "    \n",
    "    while anc1!=anc2:\n",
    "        anc1 = anc1.parent\n",
    "        anc2 = anc2.parent\n",
    "        \n",
    "    return anc1.data\n",
    "\n",
    "\n",
    "        \n",
    "def getDepth(node):\n",
    "    depth=0\n",
    "    while node.parent:\n",
    "        depth+=1\n",
    "        node=node.parent\n",
    "        \n",
    "    return depth\n",
    "        \n",
    "\n",
    "\n",
    "def example():\n",
    "    t = BinaryTree()\n",
    "    n1 = t.insert(3, None)\n",
    "    n2 = t.insert(2, n1)\n",
    "    n3 = t.insert(5, n1)\n",
    "    n4 = t.insert(1, n2)\n",
    "    t.insert(4, n2)\n",
    "    t.insert(5, n3)\n",
    "    t.insert(2, n4)\n",
    "    \n",
    "    print(\"First common ancestor of two nodes:\", firstancestor(n4.left, n2.right))\n",
    "    \n",
    "if __name__==\"__main__\":\n",
    "    example()\n",
    "            "
   ]
  },
  {
   "cell_type": "code",
   "execution_count": null,
   "metadata": {},
   "outputs": [],
   "source": []
  },
  {
   "cell_type": "code",
   "execution_count": null,
   "metadata": {},
   "outputs": [],
   "source": []
  },
  {
   "cell_type": "code",
   "execution_count": 20,
   "metadata": {},
   "outputs": [
    {
     "data": {
      "text/plain": [
       "'\\nQ8. BST was created using an array from left to right. Print all possible arrays that could have led to this tree\\n'"
      ]
     },
     "execution_count": 20,
     "metadata": {},
     "output_type": "execute_result"
    }
   ],
   "source": [
    "'''\n",
    "Q8. BST was created using an array from left to right. Print all possible arrays that could have led to this tree\n",
    "'''"
   ]
  },
  {
   "cell_type": "code",
   "execution_count": 23,
   "metadata": {},
   "outputs": [
    {
     "ename": "IndentationError",
     "evalue": "expected an indented block (<ipython-input-23-8ae3907d2bdf>, line 42)",
     "output_type": "error",
     "traceback": [
      "\u001b[1;36m  File \u001b[1;32m\"<ipython-input-23-8ae3907d2bdf>\"\u001b[1;36m, line \u001b[1;32m42\u001b[0m\n\u001b[1;33m    def example():\u001b[0m\n\u001b[1;37m      ^\u001b[0m\n\u001b[1;31mIndentationError\u001b[0m\u001b[1;31m:\u001b[0m expected an indented block\n"
     ]
    }
   ],
   "source": [
    "#Ans8.\n",
    "\n",
    "\n",
    "#Class to initialize a Node for a Binary Tree\n",
    "class Node:\n",
    "    def __init__(self, data):\n",
    "        self.data = data\n",
    "        self.parent = None\n",
    "        self.left = None\n",
    "        self.right = None\n",
    "        \n",
    "        \n",
    "#Class to create a binary tree \n",
    "class BinaryTree:\n",
    "    \n",
    "    def __init__(self):\n",
    "        self.root = None\n",
    "        \n",
    "    def insert(self, data, parent):\n",
    "        newnode = Node(data)\n",
    "        if parent is None:\n",
    "            if self.root is None:\n",
    "                self.root = newnode\n",
    "                return newnode\n",
    "            raise Exception(\"A root node already exists\")\n",
    "        if not parent.left:\n",
    "            parent.left = newnode\n",
    "            newnode.parent = parent\n",
    "        elif not parent.right:\n",
    "            parent.right = newnode\n",
    "            newnode.parent = parent\n",
    "        else:\n",
    "            raise Exception(\"A node cannot have more than 2 childrens\")\n",
    "            \n",
    "        return newnode\n",
    "\n",
    "    \n",
    "def getArrayComb(root):\n",
    "    \n",
    "\n",
    "\n",
    "def example():\n",
    "    t = BinaryTree()\n",
    "    n1 = t.insert(3, None)\n",
    "    n2 = t.insert(2, n1)\n",
    "    n3 = t.insert(5, n1)\n",
    "    n4 = t.insert(1, n2)\n",
    "    t.insert(4, n2)\n",
    "    t.insert(5, n3)\n",
    "    t.insert(2, n4)\n",
    "    \n",
    "    print(\"First common ancestor of two nodes:\", getArrayComb(n1))\n",
    "    \n",
    "if __name__==\"__main__\":\n",
    "    example()\n",
    "            "
   ]
  },
  {
   "cell_type": "code",
   "execution_count": null,
   "metadata": {},
   "outputs": [],
   "source": []
  },
  {
   "cell_type": "code",
   "execution_count": null,
   "metadata": {},
   "outputs": [],
   "source": []
  },
  {
   "cell_type": "code",
   "execution_count": null,
   "metadata": {},
   "outputs": [],
   "source": [
    "'''\n",
    "Q9. Diameter of a binary tree. Find the longest diameter (# of nodes) in a binary tree from leaf nodes. (PS: Can and \n",
    "    cannot pass through the root node)\n",
    "'''"
   ]
  },
  {
   "cell_type": "code",
   "execution_count": 39,
   "metadata": {},
   "outputs": [
    {
     "name": "stdout",
     "output_type": "stream",
     "text": [
      "longest diamter in the tree: 7\n"
     ]
    }
   ],
   "source": [
    "#Ans9.\n",
    "\n",
    "\n",
    "#Class to initialize a Node for a Binary Tree\n",
    "class Node:\n",
    "    def __init__(self, data):\n",
    "        self.data = data\n",
    "        self.parent = None\n",
    "        self.left = None\n",
    "        self.right = None\n",
    "        \n",
    "        \n",
    "#Class to create a binary tree \n",
    "class BinaryTree:\n",
    "    \n",
    "    def __init__(self):\n",
    "        self.root = None\n",
    "        \n",
    "    def insert(self, data, parent):\n",
    "        newnode = Node(data)\n",
    "        if parent is None:\n",
    "            if self.root is None:\n",
    "                self.root = newnode\n",
    "                return newnode\n",
    "            raise Exception(\"A root node already exists\")\n",
    "        if not parent.left:\n",
    "            parent.left = newnode\n",
    "            newnode.parent = parent\n",
    "        elif not parent.right:\n",
    "            parent.right = newnode\n",
    "            newnode.parent = parent\n",
    "        else:\n",
    "            raise Exception(\"A node cannot have more than 2 childrens\")\n",
    "            \n",
    "        return newnode\n",
    "\n",
    "    \n",
    "    def getLongestDiamter(self, root, res):\n",
    "        \n",
    "        #Base Condition\n",
    "        if root is None:\n",
    "            return 0\n",
    "        \n",
    "        #Left and right dynamic part\n",
    "        left = self.getLongestDiamter(root.left, res)\n",
    "        right = self.getLongestDiamter(root.right, res)\n",
    "        \n",
    "        #Result conditions\n",
    "        res[0] = max(res[0], 1 + left + right)\n",
    " \n",
    "        return 1 + max(left , right)\n",
    "        \n",
    "    \n",
    "    def Diameter(self, root):\n",
    "        \n",
    "        #Base Condition\n",
    "        if root is None:\n",
    "            return 0\n",
    "        \n",
    "        res = [-999999999999999999]\n",
    "        height = self.getLongestDiamter(root, res)\n",
    "        \n",
    "        return res[0]\n",
    "        \n",
    "\n",
    "\n",
    "def example():\n",
    "    t = BinaryTree()\n",
    "    n1 = t.insert(3, None)\n",
    "    n2 = t.insert(2, n1)\n",
    "    n3 = t.insert(5, n1)\n",
    "    n4 = t.insert(1, n2)\n",
    "    n5 = t.insert(4, n2)\n",
    "    t.insert(5, n3)\n",
    "    t.insert(2, n4)\n",
    "    n6 =  t.insert(8, n5)\n",
    "    t.insert(10, n6)\n",
    "    \n",
    "    print(\"longest diamter in the tree:\", t.Diameter(n1))\n",
    "\n",
    "if __name__==\"__main__\":\n",
    "    example()\n",
    "            "
   ]
  },
  {
   "cell_type": "code",
   "execution_count": null,
   "metadata": {},
   "outputs": [],
   "source": []
  },
  {
   "cell_type": "code",
   "execution_count": null,
   "metadata": {},
   "outputs": [],
   "source": []
  },
  {
   "cell_type": "code",
   "execution_count": 40,
   "metadata": {},
   "outputs": [
    {
     "data": {
      "text/plain": [
       "\"\\nQ9. Maximum path sum, from any node to any node. node's can be negative also.\\n\""
      ]
     },
     "execution_count": 40,
     "metadata": {},
     "output_type": "execute_result"
    }
   ],
   "source": [
    "'''\n",
    "Q10. Maximum path sum, from any node to any node. node's can be negative also.\n",
    "'''"
   ]
  },
  {
   "cell_type": "code",
   "execution_count": 41,
   "metadata": {},
   "outputs": [
    {
     "name": "stdout",
     "output_type": "stream",
     "text": [
      "longest diamter in the tree: 19\n"
     ]
    }
   ],
   "source": [
    "#Ans10.\n",
    "\n",
    "\n",
    "#Class to initialize a Node for a Binary Tree\n",
    "class Node:\n",
    "    def __init__(self, data):\n",
    "        self.data = data\n",
    "        self.parent = None\n",
    "        self.left = None\n",
    "        self.right = None\n",
    "        \n",
    "        \n",
    "#Class to create a binary tree \n",
    "class BinaryTree:\n",
    "    \n",
    "    def __init__(self):\n",
    "        self.root = None\n",
    "        \n",
    "    def insert(self, data, parent):\n",
    "        newnode = Node(data)\n",
    "        if parent is None:\n",
    "            if self.root is None:\n",
    "                self.root = newnode\n",
    "                return newnode\n",
    "            raise Exception(\"A root node already exists\")\n",
    "        if not parent.left:\n",
    "            parent.left = newnode\n",
    "            newnode.parent = parent\n",
    "        elif not parent.right:\n",
    "            parent.right = newnode\n",
    "            newnode.parent = parent\n",
    "        else:\n",
    "            raise Exception(\"A node cannot have more than 2 childrens\")\n",
    "            \n",
    "        return newnode\n",
    "\n",
    "    \n",
    "    def getLongestDiamter(self, root, res):\n",
    "        \n",
    "        #Base Condition\n",
    "        if root is None:\n",
    "            return 0\n",
    "        \n",
    "        #Left and right dynamic part\n",
    "        left = self.getLongestDiamter(root.left, res)\n",
    "        right = self.getLongestDiamter(root.right, res)\n",
    "        \n",
    "        #Result conditions\n",
    "        res[0] = max(res[0], root.data + left + right)\n",
    " \n",
    "        return root.data + max(left , right)\n",
    "        \n",
    "    \n",
    "    def Diameter(self, root):\n",
    "        \n",
    "        #Base Condition\n",
    "        if root is None:\n",
    "            return 0\n",
    "        \n",
    "        res = [-999999999999999999]\n",
    "        height = self.getLongestDiamter(root, res)\n",
    "        \n",
    "        return res[0]\n",
    "        \n",
    "\n",
    "\n",
    "def example():\n",
    "    t = BinaryTree()\n",
    "    n1 = t.insert(3, None)\n",
    "    n2 = t.insert(2, n1)\n",
    "    n3 = t.insert(5, n1)\n",
    "    n4 = t.insert(1, n2)\n",
    "    n5 = t.insert(4, n2)\n",
    "    t.insert(5, n3)\n",
    "    t.insert(2, n4)\n",
    "    n6 =  t.insert(-8, n5)\n",
    "    t.insert(-10, n6)\n",
    "    \n",
    "    print(\"MAximum ath sum:\", t.Diameter(n1))\n",
    "\n",
    "if __name__==\"__main__\":\n",
    "    example()\n",
    "            "
   ]
  },
  {
   "cell_type": "code",
   "execution_count": null,
   "metadata": {},
   "outputs": [],
   "source": []
  }
 ],
 "metadata": {
  "kernelspec": {
   "display_name": "Python 3",
   "language": "python",
   "name": "python3"
  },
  "language_info": {
   "codemirror_mode": {
    "name": "ipython",
    "version": 3
   },
   "file_extension": ".py",
   "mimetype": "text/x-python",
   "name": "python",
   "nbconvert_exporter": "python",
   "pygments_lexer": "ipython3",
   "version": "3.6.5"
  }
 },
 "nbformat": 4,
 "nbformat_minor": 2
}
