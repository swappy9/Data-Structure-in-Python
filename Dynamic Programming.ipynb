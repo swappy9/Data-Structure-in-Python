{
 "cells": [
  {
   "cell_type": "markdown",
   "metadata": {},
   "source": [
    "# NOT RELATED TO THE CRACKING THE CODING INTERVIEW BOOK QUESTIONS, PROB. CAN BE FOUND ON GEEKS FOR GEEKS"
   ]
  },
  {
   "cell_type": "code",
   "execution_count": null,
   "metadata": {},
   "outputs": [],
   "source": []
  },
  {
   "cell_type": "code",
   "execution_count": 1,
   "metadata": {},
   "outputs": [],
   "source": [
    "import numpy as np\n",
    "import pandas as pd\n",
    "import math"
   ]
  },
  {
   "cell_type": "code",
   "execution_count": null,
   "metadata": {},
   "outputs": [],
   "source": []
  },
  {
   "cell_type": "code",
   "execution_count": null,
   "metadata": {},
   "outputs": [],
   "source": []
  },
  {
   "cell_type": "code",
   "execution_count": 2,
   "metadata": {},
   "outputs": [
    {
     "data": {
      "text/plain": [
       "'\\nQ1. Subset Sum Problem, given an array, find if the numbers in the subset can be summed to the given target\\n'"
      ]
     },
     "execution_count": 2,
     "metadata": {},
     "output_type": "execute_result"
    }
   ],
   "source": [
    "'''\n",
    "Q1. Subset Sum Problem, given an array, find if the numbers in the subset can be summed to the given target\n",
    "'''"
   ]
  },
  {
   "cell_type": "code",
   "execution_count": 3,
   "metadata": {},
   "outputs": [
    {
     "name": "stdout",
     "output_type": "stream",
     "text": [
      "Subset is present True\n"
     ]
    }
   ],
   "source": [
    "#Ans1.\n",
    "\n",
    "#Treat it as a Dynamic Programming question\n",
    "\n",
    "#Approach 1 -- bottom Up Approach\n",
    "def checkSubsetSum1(nums, target, n):\n",
    "\n",
    "    #Matrix creation\n",
    "    matrix = [[False] * (target+1) for _ in range(n+1)]\n",
    "    \n",
    "    #Matrix Initialization\n",
    "    for i in range(n + 1):\n",
    "        matrix[i][0] = True\n",
    "    \n",
    "    #Condition to check if the number should be included in our set or not / Choices\n",
    "    for i in range(1, n + 1):\n",
    "        for j in range(1, target + 1):\n",
    "            \n",
    "            #When the num is greater than the target\n",
    "            if j<nums[i-1]:\n",
    "                matrix[i][j] = matrix[i-1][j]\n",
    "            \n",
    "            #When the num is greater smaller or equal to the target\n",
    "            if j>= nums[i-1]:\n",
    "                matrix[i][j] = (matrix[i-1][j] or matrix[i - 1][j-nums[i-1]])\n",
    "    \n",
    "    \n",
    "    return matrix[n][target]\n",
    "\n",
    "\n",
    "\n",
    "#Approach 2 -- Recursive approach\n",
    "def checkSubsetSum2(nums, target, n):\n",
    "\n",
    "    #End Condition / Stop condition\n",
    "    if (target == 0):\n",
    "        return True\n",
    "    \n",
    "    if (n == 0):\n",
    "        return False\n",
    "    \n",
    "    if target < nums[n-1]:\n",
    "        return checkSubsetSum2(nums, target, n-1)\n",
    "            \n",
    "    #When the num is greater smaller or equal to the target\n",
    "    if target >= nums[n-1]:\n",
    "        return (checkSubsetSum2(nums, target, n-1) or checkSubsetSum2(nums, target-nums[n-1], n-1))\n",
    "\n",
    "\n",
    "\n",
    "\n",
    "nums = [1, 3, 4, 5, 9]\n",
    "target = 22\n",
    "print(\"Subset is present\", checkSubsetSum2(nums, target, n=len(nums)))"
   ]
  },
  {
   "cell_type": "code",
   "execution_count": null,
   "metadata": {},
   "outputs": [],
   "source": []
  },
  {
   "cell_type": "code",
   "execution_count": null,
   "metadata": {},
   "outputs": [],
   "source": []
  },
  {
   "cell_type": "code",
   "execution_count": 4,
   "metadata": {},
   "outputs": [
    {
     "data": {
      "text/plain": [
       "'\\nQ2. Equal Sum Partition problem, given an array, find if we can create 2 sets with equal sum\\n'"
      ]
     },
     "execution_count": 4,
     "metadata": {},
     "output_type": "execute_result"
    }
   ],
   "source": [
    "'''\n",
    "Q2. Equal Sum Partition problem, given an array, find if we can create 2 sets with equal sum\n",
    "'''"
   ]
  },
  {
   "cell_type": "code",
   "execution_count": 5,
   "metadata": {},
   "outputs": [
    {
     "name": "stdout",
     "output_type": "stream",
     "text": [
      "2 equal sum subsets are present: True\n"
     ]
    }
   ],
   "source": [
    "#Ans2.\n",
    "\n",
    "#Treat it as a Dynamic Programming question\n",
    "\n",
    "#Approach 1 -- bottom Up Approach\n",
    "def checkSubsetSum1(nums, n):\n",
    "    \n",
    "    #Calculating target\n",
    "    target = sum(nums)\n",
    "    \n",
    "    #Rejection condition\n",
    "    if target%2 != 0:\n",
    "        return False\n",
    "    else:\n",
    "        target = target//2\n",
    "\n",
    "    #Matrix creation\n",
    "    matrix = [[False] * (target+1) for _ in range(n+1)]\n",
    "    \n",
    "    #Matrix Initialization\n",
    "    for i in range(n + 1):\n",
    "        matrix[i][0] = True\n",
    "    \n",
    "    #Condition to check if the number should be included in our set or not / Choices\n",
    "    for i in range(1, n + 1):\n",
    "        for j in range(1, target + 1):\n",
    "            \n",
    "            #When the num is greater than the target\n",
    "            if j<nums[i-1]:\n",
    "                matrix[i][j] = matrix[i-1][j]\n",
    "            \n",
    "            #When the num is greater smaller or equal to the target\n",
    "            if j>= nums[i-1]:\n",
    "                matrix[i][j] = (matrix[i-1][j] or matrix[i - 1][j-nums[i-1]])\n",
    "    \n",
    "    \n",
    "    return matrix[n][target]\n",
    "\n",
    "\n",
    "\n",
    "#Approach 2 -- Recursive approach\n",
    "def checkSubsetSum2(nums, target, n):\n",
    "\n",
    "    #End Condition / Stop condition\n",
    "    if (target == 0):\n",
    "        return True\n",
    "    \n",
    "    if (n == 0):\n",
    "        return False\n",
    "    \n",
    "    if target < nums[n-1]:\n",
    "        return checkSubsetSum2(nums, target, n-1)\n",
    "            \n",
    "    #When the num is greater smaller or equal to the target\n",
    "    if target >= nums[n-1]:\n",
    "        return (checkSubsetSum2(nums, target, n-1) or checkSubsetSum2(nums, target-nums[n-1], n-1))\n",
    "\n",
    "\n",
    "\n",
    "nums = [1, 5, 5, 11]\n",
    "target = sum(nums)\n",
    "\n",
    "if target%2 !=0:\n",
    "    print(\"2 equal subsets are not possible\")\n",
    "else:\n",
    "    target = target//2\n",
    "    print(\"2 equal sum subsets are present:\", checkSubsetSum2(nums, target, n=len(nums)))"
   ]
  },
  {
   "cell_type": "code",
   "execution_count": null,
   "metadata": {},
   "outputs": [],
   "source": []
  },
  {
   "cell_type": "code",
   "execution_count": null,
   "metadata": {},
   "outputs": [],
   "source": []
  },
  {
   "cell_type": "code",
   "execution_count": 6,
   "metadata": {},
   "outputs": [
    {
     "data": {
      "text/plain": [
       "'\\nQ3.Count the number of subsets that can be made from an array with the given sum\\n'"
      ]
     },
     "execution_count": 6,
     "metadata": {},
     "output_type": "execute_result"
    }
   ],
   "source": [
    "'''\n",
    "Q3.Count the number of subsets that can be made from an array with the given sum\n",
    "'''"
   ]
  },
  {
   "cell_type": "code",
   "execution_count": 7,
   "metadata": {},
   "outputs": [
    {
     "name": "stdout",
     "output_type": "stream",
     "text": [
      "# of Subsets 2\n"
     ]
    }
   ],
   "source": [
    "#Ans3.\n",
    "\n",
    "#Treat it as a Dynamic Programming question\n",
    "\n",
    "#Approach 1 -- bottom Up Approach\n",
    "def checkSubsetSum1(nums, target, n):\n",
    "\n",
    "    #Matrix creation\n",
    "    matrix = [[0] * (target+1) for _ in range(n+1)]\n",
    "    \n",
    "    #Matrix Initialization\n",
    "    for i in range(n + 1):\n",
    "        matrix[i][0] = 1\n",
    "    \n",
    "    #Condition to check if the number should be included in our set or not / Choices\n",
    "    for i in range(1, n + 1):\n",
    "        for j in range(1, target + 1):\n",
    "            \n",
    "            #When the num is greater than the target\n",
    "            if j<nums[i-1]:\n",
    "                matrix[i][j] = matrix[i-1][j]\n",
    "            \n",
    "            #When the num is greater smaller or equal to the target\n",
    "            if j>= nums[i-1]:\n",
    "                matrix[i][j] = (matrix[i-1][j] + matrix[i - 1][j-nums[i-1]])\n",
    "    \n",
    "    \n",
    "    return matrix[n][target]\n",
    "\n",
    "\n",
    "\n",
    "#Approach 2 -- Recursive approach\n",
    "def checkSubsetSum2(nums, target, n):\n",
    "\n",
    "    #End Condition / Stop condition\n",
    "    if (target == 0):\n",
    "        return 1\n",
    "    \n",
    "    if (n == 0):\n",
    "        return 0\n",
    "    \n",
    "    if target < nums[n-1]:\n",
    "        return checkSubsetSum2(nums, target, n-1)\n",
    "            \n",
    "    #When the num is greater smaller or equal to the target\n",
    "    if target >= nums[n-1]:\n",
    "        return (checkSubsetSum2(nums, target, n-1) + checkSubsetSum2(nums, target-nums[n-1], n-1))\n",
    "\n",
    "\n",
    "\n",
    "\n",
    "nums = [1, 3, 3, 5, 9]\n",
    "target = 6\n",
    "print(\"# of Subsets\", checkSubsetSum2(nums, target, n=len(nums)))"
   ]
  },
  {
   "cell_type": "code",
   "execution_count": null,
   "metadata": {},
   "outputs": [],
   "source": []
  },
  {
   "cell_type": "code",
   "execution_count": null,
   "metadata": {},
   "outputs": [],
   "source": []
  },
  {
   "cell_type": "code",
   "execution_count": 8,
   "metadata": {},
   "outputs": [
    {
     "data": {
      "text/plain": [
       "'\\nQ4. Minimum subset sum difference, given an array, find the 2 subsets whose sum difference is minimum\\n'"
      ]
     },
     "execution_count": 8,
     "metadata": {},
     "output_type": "execute_result"
    }
   ],
   "source": [
    "'''\n",
    "Q4. Minimum subset sum difference, given an array, find the 2 subsets whose sum difference is minimum\n",
    "'''"
   ]
  },
  {
   "cell_type": "code",
   "execution_count": 9,
   "metadata": {},
   "outputs": [
    {
     "name": "stdout",
     "output_type": "stream",
     "text": [
      "# of subsets with mini sum difference 2\n"
     ]
    }
   ],
   "source": [
    "#Ans4.\n",
    "\n",
    "#Treat it as a Dynamic Programming question\n",
    "\n",
    "#Approach 1 -- bottom Up Approach\n",
    "def checkSubsetSum1(nums, target, n):\n",
    "\n",
    "    #Matrix creation\n",
    "    matrix = [[False] * (target+1) for _ in range(n+1)]\n",
    "    \n",
    "    #Matrix Initialization\n",
    "    for i in range(n + 1):\n",
    "        matrix[i][0] = True\n",
    "    \n",
    "    #Condition to check if the number should be included in our set or not / Choices\n",
    "    for i in range(1, n + 1):\n",
    "        for j in range(1, target + 1):\n",
    "            \n",
    "            #When the num is greater than the target\n",
    "            if j<nums[i-1]:\n",
    "                matrix[i][j] = matrix[i-1][j]\n",
    "            \n",
    "            #When the num is greater smaller or equal to the target\n",
    "            if j>= nums[i-1]:\n",
    "                matrix[i][j] = (matrix[i-1][j] or matrix[i - 1][j-nums[i-1]])\n",
    "    \n",
    "    \n",
    "    #Get the last row of the matrix and elements where we see its True\n",
    "    vect = matrix[n]\n",
    "    vect_new = []\n",
    "    for j in range(target+1):\n",
    "        if vect[j] == True:\n",
    "            vect_new.append(j)\n",
    "    min_set = float('inf')\n",
    "    #print(len(vect_new)/2)\n",
    "    for i in range(int(len(vect_new)//2)):\n",
    "        min_set = min(min_set, target - 2*vect_new[i])\n",
    "        \n",
    "    return min_set\n",
    "\n",
    "\n",
    "\n",
    "# #Approach 2 -- Recursive approach\n",
    "# def checkSubsetSum2(nums, target, n):\n",
    "\n",
    "#     #End Condition / Stop condition\n",
    "#     if (target == 0):\n",
    "#         return True\n",
    "    \n",
    "#     if (n == 0):\n",
    "#         return False\n",
    "    \n",
    "#     if target < nums[n-1]:\n",
    "#         return checkSubsetSum2(nums, target, n-1)\n",
    "            \n",
    "#     #When the num is greater smaller or equal to the target\n",
    "#     if target >= nums[n-1]:\n",
    "#         return (checkSubsetSum2(nums, target, n-1) or checkSubsetSum2(nums, target-nums[n-1], n-1))\n",
    "\n",
    "\n",
    "\n",
    "\n",
    "nums = [1, 4, 7]\n",
    "target = 12\n",
    "print(\"# of subsets with mini sum difference\", checkSubsetSum1(nums, target, n=len(nums)))"
   ]
  },
  {
   "cell_type": "code",
   "execution_count": null,
   "metadata": {},
   "outputs": [],
   "source": []
  },
  {
   "cell_type": "code",
   "execution_count": null,
   "metadata": {},
   "outputs": [],
   "source": []
  },
  {
   "cell_type": "code",
   "execution_count": 10,
   "metadata": {},
   "outputs": [
    {
     "data": {
      "text/plain": [
       "'\\nQ5. Count the number of possible subsets with the given difference in an array\\n'"
      ]
     },
     "execution_count": 10,
     "metadata": {},
     "output_type": "execute_result"
    }
   ],
   "source": [
    "'''\n",
    "Q5. Count the number of possible subsets with the given difference in an array\n",
    "'''"
   ]
  },
  {
   "cell_type": "code",
   "execution_count": 11,
   "metadata": {},
   "outputs": [
    {
     "name": "stdout",
     "output_type": "stream",
     "text": [
      "# of subsets whose sum of elements equals to the target: 1\n"
     ]
    }
   ],
   "source": [
    "#Ans5.\n",
    "\n",
    "#Treat it as a Dynamic Programming question\n",
    "\n",
    "#Approach 1 -- bottom Up Approach\n",
    "def checkSubsetSum1(nums, target, n):\n",
    "\n",
    "    #Matrix creation\n",
    "    matrix = [[0] * (target+1) for _ in range(n+1)]\n",
    "    \n",
    "    #Matrix Initialization\n",
    "    for i in range(n + 1):\n",
    "        matrix[i][0] = 1\n",
    "    \n",
    "    #Condition to check if the number should be included in our set or not / Choices\n",
    "    for i in range(1, n + 1):\n",
    "        for j in range(1, target + 1):\n",
    "            \n",
    "            #When the num is greater than the target\n",
    "            if j<nums[i-1]:\n",
    "                matrix[i][j] = matrix[i-1][j]\n",
    "            \n",
    "            #When the num is greater smaller or equal to the target\n",
    "            if j>= nums[i-1]:\n",
    "                matrix[i][j] = (matrix[i-1][j] + matrix[i - 1][j-nums[i-1]])\n",
    "    \n",
    "    \n",
    "    return matrix[n][target]\n",
    "\n",
    "\n",
    "\n",
    "# #Approach 2 -- Recursive approach\n",
    "# def checkSubsetSum2(nums, target, n):\n",
    "\n",
    "#     #End Condition / Stop condition\n",
    "#     if (target == 0):\n",
    "#         return 1\n",
    "    \n",
    "#     if (n == 0):\n",
    "#         return 0\n",
    "    \n",
    "#     if target < nums[n-1]:\n",
    "#         return checkSubsetSum2(nums, target, n-1)\n",
    "            \n",
    "#     #When the num is greater smaller or equal to the target\n",
    "#     if target >= nums[n-1]:\n",
    "#         return (checkSubsetSum2(nums, target, n-1) + checkSubsetSum2(nums, target-nums[n-1], n-1))\n",
    "\n",
    "\n",
    "\n",
    "\n",
    "nums = [1, 2, 3, 5, 9]\n",
    "target = 6  #difference\n",
    "\n",
    "#s1-s2 = diff and s1 + s2 = sum(array) ==> s1 = (diff + sum(array) ) / 2\n",
    "new_target = int((target + sum(nums))/2)\n",
    "\n",
    "print(\"# of subsets whose sum of elements equals to the target:\", checkSubsetSum1(nums, new_target, n=len(nums)))"
   ]
  },
  {
   "cell_type": "code",
   "execution_count": null,
   "metadata": {},
   "outputs": [],
   "source": []
  },
  {
   "cell_type": "code",
   "execution_count": null,
   "metadata": {},
   "outputs": [],
   "source": []
  },
  {
   "cell_type": "code",
   "execution_count": 12,
   "metadata": {},
   "outputs": [
    {
     "data": {
      "text/plain": [
       "'\\nQ6. Assign a sign, +/- to each element in an array such that the resulting sum of array is equal to the target\\n'"
      ]
     },
     "execution_count": 12,
     "metadata": {},
     "output_type": "execute_result"
    }
   ],
   "source": [
    "'''\n",
    "Q6. Assign a sign, +/- to each element in an array such that the resulting sum of array is equal to the target\n",
    "'''"
   ]
  },
  {
   "cell_type": "code",
   "execution_count": 13,
   "metadata": {},
   "outputs": [],
   "source": [
    "#Ans6.\n",
    "\n",
    "#It's same problem as Q5, we need to find 2 subsets whose diff is equal to the target given here. So exactly same solution\n",
    "#as the previous problem."
   ]
  },
  {
   "cell_type": "code",
   "execution_count": null,
   "metadata": {},
   "outputs": [],
   "source": []
  },
  {
   "cell_type": "code",
   "execution_count": null,
   "metadata": {},
   "outputs": [],
   "source": []
  },
  {
   "cell_type": "code",
   "execution_count": 14,
   "metadata": {},
   "outputs": [
    {
     "data": {
      "text/plain": [
       "'\\nQ7. Longest common subsequence, given 2 strings, a and b, find the length of longest common subsequence\\n\\neg. a = \"abcdef\" and b = \"abddrf\" ==> Longest common subsequence = \"abdf\"\\n'"
      ]
     },
     "execution_count": 14,
     "metadata": {},
     "output_type": "execute_result"
    }
   ],
   "source": [
    "'''\n",
    "Q7. Longest common subsequence, given 2 strings, a and b, find the length of longest common subsequence\n",
    "\n",
    "eg. a = \"abcdef\" and b = \"abddrf\" ==> Longest common subsequence = \"abdf\"\n",
    "'''"
   ]
  },
  {
   "cell_type": "code",
   "execution_count": 65,
   "metadata": {},
   "outputs": [
    {
     "name": "stdout",
     "output_type": "stream",
     "text": [
      "Length of longest common subsequence: 4\n",
      "Length of longest common subsequence using approach 2: 4\n",
      "Length of longest common subsequence using approach 3: None\n",
      "Length of longest common subsequence using approach 4: 4\n"
     ]
    }
   ],
   "source": [
    "#Ans7.\n",
    "\n",
    "#Approach 1: Recursice solution\n",
    "def lcs(s1, s2, cnt):\n",
    "    #Base condition:\n",
    "    if len(s1) == 0 or len(s2)==0:\n",
    "        return cnt\n",
    "    \n",
    "    #Choice condition\n",
    "    else:\n",
    "        if s1[-1] == s2[-1]:\n",
    "            cnt+=1\n",
    "            return lcs(s1[:-1], s2[:-1], cnt)\n",
    "        \n",
    "        else:\n",
    "            return max(lcs(s1[:-1], s2, cnt) , lcs(s1, s2[:-1], cnt))\n",
    "\n",
    "        \n",
    "\n",
    "#Approach 2: Recursice solution with length as input\n",
    "def lcs2(s1, s2, l1, l2):\n",
    "    #Base condition:\n",
    "    if l1 == 0 or l2 == 0:\n",
    "        return 0\n",
    "    \n",
    "    #Choice condition\n",
    "    else:\n",
    "        if s1[l1-1] == s2[l2-1]:\n",
    "            return 1 + lcs2(s1, s2, l1-1, l2-1)\n",
    "        \n",
    "        else:\n",
    "            return max(lcs2(s1, s2, l1-1, l2) , lcs2(s1, s2, l1, l2-1))\n",
    "        \n",
    "        \n",
    "        \n",
    "        \n",
    "#Approach 3: Recursice solution with length as input + Memoization\n",
    "def lcs3(s1, s2, l1, l2, t):\n",
    "    #Matrix creation and initialization\n",
    "    if len(t)==0:\n",
    "        t = [[-1]*(l2+1) for _ in range(l1+1)]\n",
    "        for i in range(l1+1):\n",
    "            t[i][0] = 0\n",
    "        for j in range(l2+1):\n",
    "            t[0][j] = 0\n",
    "    \n",
    "\n",
    "    #Base condition:\n",
    "    if t[l1][l2] != -1:\n",
    "        return t[l1][l2]\n",
    "    \n",
    "    \n",
    "    #Choice condition\n",
    "    if s1[l1-1] == s2[l2-1]:\n",
    "        if lcs3(s1, s2, l1-1, l2-1, t):\n",
    "            t[l1][l2]  = 1 + lcs3(s1, s2, l1-1, l2-1, t)\n",
    "        else:\n",
    "            t[l1][l2] = 1\n",
    "        \n",
    "    else:\n",
    "        if lcs3(s1, s2, l1-1, l2, t) and  lcs3(s1, s2, l1, l2-1, t):\n",
    "            t[l1][l2] = max(lcs3(s1, s2, l1-1, l2, t),  lcs3(s1, s2, l1, l2-1, t))\n",
    "        elif lcs3(s1, s2, l1-1, l2, t) is None:\n",
    "            t[l1][l2] =  lcs3(s1, s2, l1, l2-1, t)\n",
    "        elif lcs3(s1, s2, l1, l2-1, t) is None:\n",
    "            t[l1][l2] =  lcs3(s1, s2, l1-1, l2, t)\n",
    "        else:\n",
    "            t[l1][l2] =  0\n",
    "            \n",
    "\n",
    "            \n",
    "            \n",
    "#Approach 4: Top Down approach\n",
    "def lcs4(s1, s2, l1, l2, t):\n",
    "    #Matrix creation and initialization\n",
    "    if len(t)==0:\n",
    "        t = [[-1]*(l2+1) for _ in range(l1+1)]\n",
    "        for i in range(l1+1):\n",
    "            t[i][0] = 0\n",
    "        for j in range(l2+1):\n",
    "            t[0][j] = 0\n",
    "    \n",
    "\n",
    "    for i in range(1, l1+1):\n",
    "        for j in range(1, l2+1):\n",
    "            if s1[i-1] == s2[j-1]:\n",
    "                t[i][j] = 1 + t[i-1][j-1]\n",
    "                \n",
    "            else:\n",
    "                t[i][j] = max(t[i-1][j], t[i][j-1])\n",
    "                    \n",
    "    return t[l1][l2]\n",
    "\n",
    "\n",
    "\n",
    "a = \"abcdef\"\n",
    "b = \"abddrf\"\n",
    "cnt = 0\n",
    "t = []\n",
    "\n",
    "print(\"Length of longest common subsequence:\", lcs(a, b, cnt))\n",
    "\n",
    "print(\"Length of longest common subsequence using approach 2:\", lcs2(a, b, len(a), len(b)))\n",
    "\n",
    "print(\"Length of longest common subsequence using approach 3:\", lcs3(a, b, len(a), len(b), t))\n",
    "\n",
    "print(\"Length of longest common subsequence using approach 4:\", lcs4(a, b, len(a), len(b), t))"
   ]
  },
  {
   "cell_type": "code",
   "execution_count": null,
   "metadata": {},
   "outputs": [],
   "source": []
  },
  {
   "cell_type": "code",
   "execution_count": null,
   "metadata": {},
   "outputs": [],
   "source": []
  },
  {
   "cell_type": "code",
   "execution_count": 16,
   "metadata": {},
   "outputs": [
    {
     "data": {
      "text/plain": [
       "'\\nQ8. Longest common subsequence, given 2 strings, a and b, print the longest common subsequence\\n\\neg. a = \"abcdef\" and b = \"abddrf\" ==> Longest common subsequence = \"abdf\"\\n'"
      ]
     },
     "execution_count": 16,
     "metadata": {},
     "output_type": "execute_result"
    }
   ],
   "source": [
    "'''\n",
    "Q8. Longest common subsequence, given 2 strings, a and b, print the longest common subsequence\n",
    "\n",
    "eg. a = \"abcdef\" and b = \"abddrf\" ==> Longest common subsequence = \"abdf\"\n",
    "'''"
   ]
  },
  {
   "cell_type": "code",
   "execution_count": 64,
   "metadata": {},
   "outputs": [
    {
     "name": "stdout",
     "output_type": "stream",
     "text": [
      "Length of longest common substring using top-down: abce\n",
      "Length of longest common substring using recursive: a\n"
     ]
    }
   ],
   "source": [
    "#Ans9.\n",
    "            \n",
    "            \n",
    "#Approach 1: Top Down approach\n",
    "def longestSubsequence(s1, s2, l1, l2, t):\n",
    "    #Matrix creation and initialization\n",
    "    if len(t)==0:\n",
    "        t = [[-1]*(l2+1) for _ in range(l1+1)]\n",
    "        for i in range(l1+1):\n",
    "            t[i][0] = 0\n",
    "        for j in range(l2+1):\n",
    "            t[0][j] = 0\n",
    "    \n",
    "\n",
    "    for i in range(1, l1+1):\n",
    "        for j in range(1, l2+1):\n",
    "            if s1[i-1] == s2[j-1]:\n",
    "                t[i][j] = 1 + t[i-1][j-1]\n",
    "                \n",
    "            else:\n",
    "                t[i][j] = max(t[i-1][j], t[i][j-1])\n",
    "    \n",
    "    \n",
    "    max_subseq = \"\"\n",
    "    i = l1\n",
    "    j = l2\n",
    "    while i>0 and j>0:\n",
    "        if s1[i-1] == s2[j-1]:\n",
    "                max_subseq = max_subseq + str(s1[i-1])\n",
    "                i=i-1\n",
    "                j=j-1\n",
    "        else:\n",
    "            if t[i-1][j] > t[i][j-1]:\n",
    "                i=i-1\n",
    "            else:\n",
    "                j=j-1\n",
    "                \n",
    "                    \n",
    "\n",
    "    return max_subseq[::-1]\n",
    "\n",
    "\n",
    "\n",
    "\n",
    "#Approach 2: Recursice solution --- NOt working\n",
    "def longestSubsequence2(s1, s2, st):\n",
    "    #Base condition:\n",
    "    if len(s1) == 0 or len(s2)==0:\n",
    "        return st\n",
    "    \n",
    "    #Choice condition\n",
    "    else:\n",
    "        if s1[-1] == s2[-1]:\n",
    "            st = st + s1[-1]\n",
    "            return longestSubsequence2(s1[:-1], s2[:-1], st)\n",
    "        \n",
    "        else:\n",
    "            return longestSubsequence2(s1[:-1], s2, st) or longestSubsequence2(s1, s2[:-1], st)\n",
    "\n",
    "\n",
    "a = \"abcae\"\n",
    "b = \"abcdefghi\"\n",
    "cnt = 0\n",
    "st = \"\"\n",
    "t = []\n",
    "\n",
    "print(\"Length of longest common substring using top-down:\", longestSubsequence(a, b, len(a), len(b), t))\n",
    "print(\"Length of longest common substring using recursive:\", longestSubsequence2(a, b,st))"
   ]
  },
  {
   "cell_type": "code",
   "execution_count": null,
   "metadata": {},
   "outputs": [],
   "source": []
  },
  {
   "cell_type": "code",
   "execution_count": null,
   "metadata": {},
   "outputs": [],
   "source": []
  },
  {
   "cell_type": "code",
   "execution_count": 18,
   "metadata": {},
   "outputs": [
    {
     "data": {
      "text/plain": [
       "'\\nQ9. Longest common substring, given 2 strings, a and b, find the length of longest common substring\\n\\neg. a = \"abcdef\" and b = \"abddrf\" ==> Longest common subsequence = \"ab\", length is 2\\n'"
      ]
     },
     "execution_count": 18,
     "metadata": {},
     "output_type": "execute_result"
    }
   ],
   "source": [
    "'''\n",
    "Q9. Longest common substring, given 2 strings, a and b, find the length of longest common substring\n",
    "\n",
    "eg. a = \"abcdef\" and b = \"abddrf\" ==> Longest common subsequence = \"ab\", length is 2\n",
    "'''"
   ]
  },
  {
   "cell_type": "code",
   "execution_count": 63,
   "metadata": {},
   "outputs": [
    {
     "name": "stdout",
     "output_type": "stream",
     "text": [
      "Length of longest common substring using top-down: 3\n",
      "Length of longest common substring using recursive: 3\n"
     ]
    }
   ],
   "source": [
    "#Ans9.\n",
    "            \n",
    "            \n",
    "#Approach 1: Top Down approach\n",
    "def longestSubstring(s1, s2, l1, l2, t):\n",
    "    #Matrix creation and initialization\n",
    "    if len(t)==0:\n",
    "        t = [[-1]*(l2+1) for _ in range(l1+1)]\n",
    "        for i in range(l1+1):\n",
    "            t[i][0] = 0\n",
    "        for j in range(l2+1):\n",
    "            t[0][j] = 0\n",
    "    \n",
    "\n",
    "    for i in range(1, l1+1):\n",
    "        for j in range(1, l2+1):\n",
    "            if s1[i-1] == s2[j-1]:\n",
    "                t[i][j] = 1 + t[i-1][j-1]\n",
    "                \n",
    "            else:\n",
    "                t[i][j] = 0\n",
    "    \n",
    "    \n",
    "    max_cnt = 0\n",
    "    for i in range(l1+1):\n",
    "        for j in range(l2+1):\n",
    "            max_cnt = max(max_cnt, t[i][j])\n",
    "\n",
    "    return max_cnt\n",
    "\n",
    "\n",
    "\n",
    "\n",
    "#Approach 2: Recursice solution\n",
    "def longestSubstring2(s1, s2, max_cnt):\n",
    "    #Base condition:\n",
    "    if len(s1) == 0 or len(s2)==0:\n",
    "        return max_cnt\n",
    "    \n",
    "    #Choice condition\n",
    "    else:\n",
    "        if s1[-1] == s2[-1]:\n",
    "            max_cnt+=1\n",
    "            return longestSubstring2(s1[:-1], s2[:-1], max_cnt)\n",
    "        \n",
    "        else:\n",
    "            return max(longestSubstring2(s1[:-1], s2, cnt) , longestSubstring2(s1, s2[:-1], max_cnt))\n",
    "\n",
    "\n",
    "a = \"abcae\"\n",
    "b = \"abcdefghi\"\n",
    "cnt = 0\n",
    "t = []\n",
    "\n",
    "print(\"Length of longest common substring using top-down:\", longestSubstring(a, b, len(a), len(b), t))\n",
    "print(\"Length of longest common substring using recursive:\", longestSubstring2(a, b, cnt))"
   ]
  },
  {
   "cell_type": "code",
   "execution_count": null,
   "metadata": {},
   "outputs": [],
   "source": []
  },
  {
   "cell_type": "code",
   "execution_count": null,
   "metadata": {},
   "outputs": [],
   "source": []
  },
  {
   "cell_type": "code",
   "execution_count": 20,
   "metadata": {},
   "outputs": [
    {
     "data": {
      "text/plain": [
       "'\\nQ10. shortest common Suoersequence, given 2 strings, a and b, find the length of longest common supersequence\\n\\neg. a = \"abcdef\" and b = \"abddrf\" ==> shortest common supersequence = \"abcdderf\"\\n'"
      ]
     },
     "execution_count": 20,
     "metadata": {},
     "output_type": "execute_result"
    }
   ],
   "source": [
    "'''\n",
    "Q10. shortest common Suoersequence, given 2 strings, a and b, find the length of longest common supersequence\n",
    "\n",
    "eg. a = \"abcdef\" and b = \"abddrf\" ==> shortest common supersequence = \"abcdderf\"\n",
    "'''"
   ]
  },
  {
   "cell_type": "code",
   "execution_count": 62,
   "metadata": {},
   "outputs": [
    {
     "name": "stdout",
     "output_type": "stream",
     "text": [
      "Length of shortest common supersequence using top-down: 11\n"
     ]
    }
   ],
   "source": [
    "#Ans10.\n",
    "            \n",
    "            \n",
    "#Approach 1: Top Down approach\n",
    "#Logic --> We write the longest common subsequence once and rest of the letters would come as it is\n",
    "def shortestSupersequence(s1, s2, l1, l2, t):\n",
    "    #Matrix creation and initialization\n",
    "    if len(t)==0:\n",
    "        t = [[-1]*(l2+1) for _ in range(l1+1)]\n",
    "        for i in range(l1+1):\n",
    "            t[i][0] = 0\n",
    "        for j in range(l2+1):\n",
    "            t[0][j] = 0\n",
    "    \n",
    "\n",
    "    for i in range(1, l1+1):\n",
    "        for j in range(1, l2+1):\n",
    "            if s1[i-1] == s2[j-1]:\n",
    "                t[i][j] = 1 + t[i-1][j-1]\n",
    "                \n",
    "            else:\n",
    "                t[i][j] = 0\n",
    "    \n",
    "    \n",
    "    max_cnt = 0\n",
    "    for i in range(l1+1):\n",
    "        for j in range(l2+1):\n",
    "            max_cnt = max(max_cnt, t[i][j])\n",
    "\n",
    "    return l1 + l2 - max_cnt\n",
    "\n",
    "\n",
    "\n",
    "\n",
    "# #Approach 2: Recursice solution\n",
    "# def longestSubstring2(s1, s2, max_cnt):\n",
    "#     #Base condition:\n",
    "#     if len(s1) == 0 or len(s2)==0:\n",
    "#         return max_cnt\n",
    "    \n",
    "#     #Choice condition\n",
    "#     else:\n",
    "#         if s1[-1] == s2[-1]:\n",
    "#             max_cnt+=1\n",
    "#             return longestSubstring2(s1[:-1], s2[:-1], max_cnt)\n",
    "        \n",
    "#         else:\n",
    "#             return max(longestSubstring2(s1[:-1], s2, cnt) , longestSubstring2(s1, s2[:-1], max_cnt))\n",
    "\n",
    "\n",
    "a = \"abcae\"\n",
    "b = \"abcdefghi\"\n",
    "cnt = 0\n",
    "t = []\n",
    "\n",
    "print(\"Length of shortest common supersequence using top-down:\", shortestSupersequence(a, b, len(a), len(b), t))\n",
    "#print(\"Length of longest common substring using recursive:\", longestSubstring2(a, b, cnt))"
   ]
  },
  {
   "cell_type": "code",
   "execution_count": null,
   "metadata": {},
   "outputs": [],
   "source": []
  },
  {
   "cell_type": "code",
   "execution_count": null,
   "metadata": {},
   "outputs": [],
   "source": []
  },
  {
   "cell_type": "code",
   "execution_count": 22,
   "metadata": {},
   "outputs": [
    {
     "data": {
      "text/plain": [
       "'\\nQ11. shortest common Suoersequence, given 2 strings, a and b, print the shortest common supersequence\\n\\neg. a = \"abcdef\" and b = \"abddrf\" ==> shortest common supersequence = \"abcdderf\"\\n'"
      ]
     },
     "execution_count": 22,
     "metadata": {},
     "output_type": "execute_result"
    }
   ],
   "source": [
    "'''\n",
    "Q11. shortest common Supersequence, given 2 strings, a and b, print the shortest common supersequence\n",
    "\n",
    "eg. a = \"abcdef\" and b = \"abddrf\" ==> shortest common supersequence = \"abcdderf\"\n",
    "'''"
   ]
  },
  {
   "cell_type": "code",
   "execution_count": 61,
   "metadata": {},
   "outputs": [
    {
     "name": "stdout",
     "output_type": "stream",
     "text": [
      "Length of shortest common supersequence using top-down: abcadefghi\n"
     ]
    }
   ],
   "source": [
    "#Ans11.\n",
    "            \n",
    "            \n",
    "#Approach 1: Top Down approach\n",
    "#Logic --> We write the longest common subsequence once and rest of the letters would come as it is\n",
    "def shortestSupersequence(s1, s2, l1, l2, t):\n",
    "    #Matrix creation and initialization\n",
    "    if len(t)==0:\n",
    "        t = [[-1]*(l2+1) for _ in range(l1+1)]\n",
    "        for i in range(l1+1):\n",
    "            t[i][0] = 0\n",
    "        for j in range(l2+1):\n",
    "            t[0][j] = 0\n",
    "    \n",
    "\n",
    "    for i in range(1, l1+1):\n",
    "        for j in range(1, l2+1):\n",
    "            if s1[i-1] == s2[j-1]:\n",
    "                t[i][j] = 1 + t[i-1][j-1]\n",
    "                \n",
    "            else:\n",
    "                t[i][j] = 0\n",
    "    \n",
    "    \n",
    "    i = l1\n",
    "    j = l2\n",
    "    supseq = \"\"\n",
    "    \n",
    "    while i > 0 or j > 0:\n",
    "        if s1[i-1] == s2[j-1]:\n",
    "            supseq = supseq + s1[i-1]\n",
    "            i-=1\n",
    "            j-=1\n",
    "        else:\n",
    "            if t[i-1][j] > t[i][j-1]:\n",
    "                \n",
    "                supseq = supseq + s1[i-1]\n",
    "                i=i-1\n",
    "            else:\n",
    "                supseq = supseq + s2[j-1]\n",
    "                j=j-1\n",
    "\n",
    "    return supseq[::-1]\n",
    "\n",
    "\n",
    "# #Approach 2: Recursice solution\n",
    "# def longestSubstring2(s1, s2, max_cnt):\n",
    "#     #Base condition:\n",
    "#     if len(s1) == 0 or len(s2)==0:\n",
    "#         return max_cnt\n",
    "    \n",
    "#     #Choice condition\n",
    "#     else:\n",
    "#         if s1[-1] == s2[-1]:\n",
    "#             max_cnt+=1\n",
    "#             return longestSubstring2(s1[:-1], s2[:-1], max_cnt)\n",
    "        \n",
    "#         else:\n",
    "#             return max(longestSubstring2(s1[:-1], s2, cnt) , longestSubstring2(s1, s2[:-1], max_cnt))\n",
    "\n",
    "\n",
    "a = \"abcae\"\n",
    "b = \"abcdefghi\"\n",
    "cnt = 0\n",
    "t = []\n",
    "\n",
    "print(\"Length of shortest common supersequence using top-down:\", shortestSupersequence(a, b, len(a), len(b), t))\n",
    "#print(\"Length of longest common substring using recursive:\", longestSubstring2(a, b, cnt))"
   ]
  },
  {
   "cell_type": "code",
   "execution_count": null,
   "metadata": {},
   "outputs": [],
   "source": []
  },
  {
   "cell_type": "code",
   "execution_count": null,
   "metadata": {},
   "outputs": [],
   "source": []
  },
  {
   "cell_type": "code",
   "execution_count": 24,
   "metadata": {},
   "outputs": [
    {
     "data": {
      "text/plain": [
       "'\\nQ12: Find the min # of insertion and deletion required to convert string St1 to string St2\\n'"
      ]
     },
     "execution_count": 24,
     "metadata": {},
     "output_type": "execute_result"
    }
   ],
   "source": [
    "'''\n",
    "Q12: Find the min # of insertion and deletion required to convert string St1 to string St2\n",
    "'''"
   ]
  },
  {
   "cell_type": "code",
   "execution_count": 60,
   "metadata": {},
   "outputs": [
    {
     "name": "stdout",
     "output_type": "stream",
     "text": [
      "Min # of insertion and deletion required respectively (Top Down): 5 1\n",
      "Min # of insertion and deletion required respectively (recurion): 5 1\n"
     ]
    }
   ],
   "source": [
    "#Ans12.\n",
    "            \n",
    "            \n",
    "#Approach 1: Top Down approach\n",
    "def minInstDel(s1, s2, l1, l2, t):\n",
    "    #Matrix creation and initialization\n",
    "    if len(t)==0:\n",
    "        t = [[-1]*(l2+1) for _ in range(l1+1)]\n",
    "        for i in range(l1+1):\n",
    "            t[i][0] = 0\n",
    "        for j in range(l2+1):\n",
    "            t[0][j] = 0\n",
    "    \n",
    "\n",
    "    for i in range(1, l1+1):\n",
    "        for j in range(1, l2+1):\n",
    "            if s1[i-1] == s2[j-1]:\n",
    "                t[i][j] = 1 + t[i-1][j-1]\n",
    "                \n",
    "            else:\n",
    "                t[i][j] = max(t[i-1][j], t[i][j-1])\n",
    "                \n",
    "    return t[l1][l2]\n",
    "\n",
    "\n",
    "\n",
    "#Approach 2: Recursion\n",
    "def minInstDel2(s1, s2):\n",
    "    \n",
    "    #BAse Condition\n",
    "    if len(s1) == 0 or len(s2)==0:\n",
    "        return 0\n",
    "    \n",
    "    #Choice Condition\n",
    "    \n",
    "    if s1[-1] == s2[-1]:\n",
    "        return 1+ minInstDel2(s1[:-1], s2[:-1])\n",
    "    else:\n",
    "        return max(minInstDel2(s1[:-1], s2), minInstDel2(s1, s2[:-1]))\n",
    "    \n",
    "    \n",
    "\n",
    "a = \"abcae\"\n",
    "b = \"abcdefghi\"\n",
    "cnt = 0\n",
    "t = []\n",
    "\n",
    "LCS_len1 =  minInstDel(a, b, len(a), len(b), t)\n",
    "LCS_len2 =  minInstDel2(a, b)\n",
    "\n",
    "print(\"Min # of insertion and deletion required respectively (Top Down):\", len(b) - LCS_len1, len(a) - LCS_len1)\n",
    "print(\"Min # of insertion and deletion required respectively (recurion):\", len(b) - LCS_len2, len(a) - LCS_len2)"
   ]
  },
  {
   "cell_type": "code",
   "execution_count": null,
   "metadata": {},
   "outputs": [],
   "source": []
  },
  {
   "cell_type": "code",
   "execution_count": null,
   "metadata": {},
   "outputs": [],
   "source": []
  },
  {
   "cell_type": "code",
   "execution_count": 36,
   "metadata": {},
   "outputs": [
    {
     "data": {
      "text/plain": [
       "'\\nQ12: Longest Palindromic subsequence, find the length of longest palindromic subsequence\\n\\n'"
      ]
     },
     "execution_count": 36,
     "metadata": {},
     "output_type": "execute_result"
    }
   ],
   "source": [
    "'''\n",
    "Q13: Longest Palindromic subsequence, find the length of longest palindromic subsequence\n",
    "\n",
    "'''"
   ]
  },
  {
   "cell_type": "code",
   "execution_count": 59,
   "metadata": {},
   "outputs": [
    {
     "name": "stdout",
     "output_type": "stream",
     "text": [
      "Length of longest palindromic subsequence (Top Down): 5\n",
      "Length of longest palindromic subsequence (recurion): 6\n"
     ]
    }
   ],
   "source": [
    "#Ans13.\n",
    "            \n",
    "            \n",
    "#Approach 1: Top Down approach\n",
    "#Logic - String 1 will be our original string and the seconds string is the reverse of the original string and the common\n",
    "#subsequence (longest) between these two strings would be our longest common palindromic subsequence\n",
    "\n",
    "def longestPalSubseq(s1, s2, l1, l2, t):\n",
    "    #Matrix creation and initialization\n",
    "    if len(t)==0:\n",
    "        t = [[-1]*(l2+1) for _ in range(l1+1)]\n",
    "        for i in range(l1+1):\n",
    "            t[i][0] = 0\n",
    "        for j in range(l2+1):\n",
    "            t[0][j] = 0\n",
    "    \n",
    "\n",
    "    for i in range(1, l1+1):\n",
    "        for j in range(1, l2+1):\n",
    "            if s1[i-1] == s2[j-1]:\n",
    "                t[i][j] = 1 + t[i-1][j-1]\n",
    "                \n",
    "            else:\n",
    "                t[i][j] = max(t[i-1][j], t[i][j-1])\n",
    "                \n",
    "    return t[l1][l2]\n",
    "\n",
    "\n",
    "\n",
    "#Approach 2: Recursion\n",
    "def longestPalSubseq2(s1, s2):\n",
    "    \n",
    "    #Base Condition\n",
    "    if len(s1) == 0 or len(s2)==0:\n",
    "        return 0\n",
    "    \n",
    "    #Choice Condition\n",
    "    \n",
    "    if s1[-1] == s2[-1]:\n",
    "        return 1+ minInstDel2(s1[:-1], s2[:-1])\n",
    "    else:\n",
    "        return max(minInstDel2(s1[:-1], s2), minInstDel2(s1, s2[:-1]))\n",
    "    \n",
    "    \n",
    "\n",
    "a = \"agbcba\"\n",
    "b = \"abccgbda\"\n",
    "cnt = 0\n",
    "t = []\n",
    "\n",
    "\n",
    "print(\"Length of longest palindromic subsequence (Top Down):\", longestPalSubseq(a, a[::-1], len(a), len(a), t))\n",
    "print(\"Length of longest palindromic subsequence (recurion):\", longestPalSubseq2(b, b[::-1]))"
   ]
  },
  {
   "cell_type": "code",
   "execution_count": null,
   "metadata": {},
   "outputs": [],
   "source": []
  },
  {
   "cell_type": "code",
   "execution_count": null,
   "metadata": {},
   "outputs": [],
   "source": []
  },
  {
   "cell_type": "code",
   "execution_count": 41,
   "metadata": {},
   "outputs": [
    {
     "data": {
      "text/plain": [
       "'\\nQ14: Minimum # of deletion required in a string to make it a Palindrome\\n'"
      ]
     },
     "execution_count": 41,
     "metadata": {},
     "output_type": "execute_result"
    }
   ],
   "source": [
    "'''\n",
    "Q14: Minimum # of deletion required in a string to make it a Palindrome\n",
    "'''"
   ]
  },
  {
   "cell_type": "code",
   "execution_count": 58,
   "metadata": {},
   "outputs": [
    {
     "name": "stdout",
     "output_type": "stream",
     "text": [
      "Min # of deletion reuqired to make a string palindrome: (Top Down): 1\n",
      "Length of longest palindromic subsequence (recurion): 2\n"
     ]
    }
   ],
   "source": [
    "#Ans13.\n",
    "            \n",
    "            \n",
    "#Approach 1: Top Down approach\n",
    "#Logic - String 1 will be our original string and the seconds string is the reverse of the original string and the common\n",
    "#subsequence (longest) between these two strings would be our longest common palindromic subsequence\n",
    "\n",
    "def NoofDeletion(s1, s2, l1, l2, t):\n",
    "    #Matrix creation and initialization\n",
    "    if len(t)==0:\n",
    "        t = [[-1]*(l2+1) for _ in range(l1+1)]\n",
    "        for i in range(l1+1):\n",
    "            t[i][0] = 0\n",
    "        for j in range(l2+1):\n",
    "            t[0][j] = 0\n",
    "    \n",
    "\n",
    "    for i in range(1, l1+1):\n",
    "        for j in range(1, l2+1):\n",
    "            if s1[i-1] == s2[j-1]:\n",
    "                t[i][j] = 1 + t[i-1][j-1]\n",
    "                \n",
    "            else:\n",
    "                t[i][j] = max(t[i-1][j], t[i][j-1])\n",
    "                \n",
    "    return t[l1][l2]\n",
    "\n",
    "\n",
    "\n",
    "#Approach 2: Recursion\n",
    "def NoofDeletion2(s1, s2):\n",
    "    \n",
    "    #Base Condition\n",
    "    if len(s1) == 0 or len(s2)==0:\n",
    "        return 0\n",
    "    \n",
    "    #Choice Condition\n",
    "    \n",
    "    if s1[-1] == s2[-1]:\n",
    "        return 1+ minInstDel2(s1[:-1], s2[:-1])\n",
    "    else:\n",
    "        return max(minInstDel2(s1[:-1], s2), minInstDel2(s1, s2[:-1]))\n",
    "    \n",
    "    \n",
    "\n",
    "a = \"agbcba\"\n",
    "b = \"abccgbda\"\n",
    "cnt = 0\n",
    "t = []\n",
    "\n",
    "\n",
    "print(\"Min # of deletion reuqired to make a string palindrome: (Top Down):\", len(a) - NoofDeletion(a, a[::-1], len(a), len(a), t))\n",
    "print(\"Length of longest palindromic subsequence (recurion):\", len(b) - NoofDeletion2(b, b[::-1]))"
   ]
  },
  {
   "cell_type": "code",
   "execution_count": null,
   "metadata": {},
   "outputs": [],
   "source": []
  },
  {
   "cell_type": "code",
   "execution_count": null,
   "metadata": {},
   "outputs": [],
   "source": []
  },
  {
   "cell_type": "code",
   "execution_count": 44,
   "metadata": {},
   "outputs": [
    {
     "data": {
      "text/plain": [
       "'\\nQ15: Find the length of longest repeating subsequence in a string\\n\\n'"
      ]
     },
     "execution_count": 44,
     "metadata": {},
     "output_type": "execute_result"
    }
   ],
   "source": [
    "'''\n",
    "Q15: Find the length of longest repeating subsequence in a string\n",
    "\n",
    "'''"
   ]
  },
  {
   "cell_type": "code",
   "execution_count": 67,
   "metadata": {},
   "outputs": [
    {
     "name": "stdout",
     "output_type": "stream",
     "text": [
      "Length of longest repeating subsequence (Top Down): 3\n",
      "Length of longest repeating subsequence(recurion): 9\n"
     ]
    }
   ],
   "source": [
    "#Ans15.\n",
    "            \n",
    "            \n",
    "#Approach 1: Top Down approach\n",
    "def longestRepeating(s1, s2, l1, l2, t):\n",
    "    #Matrix creation and initialization\n",
    "    if len(t)==0:\n",
    "        t = [[-1]*(l2+1) for _ in range(l1+1)]\n",
    "        for i in range(l1+1):\n",
    "            t[i][0] = 0\n",
    "        for j in range(l2+1):\n",
    "            t[0][j] = 0\n",
    "    \n",
    "\n",
    "    for i in range(1, l1+1):\n",
    "        for j in range(1, l2+1):\n",
    "            if (s1[i-1] == s2[j-1] and i!=j):\n",
    "                t[i][j] = 1 + t[i-1][j-1]\n",
    "                \n",
    "            else:\n",
    "                t[i][j] = max(t[i-1][j], t[i][j-1])\n",
    "                    \n",
    "    return t[l1][l2]\n",
    "\n",
    "\n",
    "\n",
    "#Approach 2: Recursion\n",
    "def longestRepeating2(s1, s2):\n",
    "    \n",
    "    #Base Condition\n",
    "    if len(s1) == 0 or len(s2)==0:\n",
    "        return 0\n",
    "    \n",
    "    #Choice Condition\n",
    "    if s1[-1] == s2[-1] and len(s1)-1!=len(s2)-1:\n",
    "        return 1+ minInstDel2(s1[:-1], s2[:-1])\n",
    "    else:\n",
    "        return max(minInstDel2(s1[:-1], s2), minInstDel2(s1, s2[:-1]))\n",
    "    \n",
    "    \n",
    "\n",
    "a = \"aabebcdd\"\n",
    "b = \"abccgabdac\"\n",
    "cnt = 0\n",
    "t = []\n",
    "\n",
    "\n",
    "print(\"Length of longest repeating subsequence (Top Down):\", longestRepeating(a, a, len(a), len(a), t))\n",
    "print(\"Length of longest repeating subsequence(recurion):\", longestRepeating2(b, b)) #Wrong answer"
   ]
  },
  {
   "cell_type": "code",
   "execution_count": null,
   "metadata": {},
   "outputs": [],
   "source": []
  },
  {
   "cell_type": "code",
   "execution_count": null,
   "metadata": {},
   "outputs": [],
   "source": []
  },
  {
   "cell_type": "code",
   "execution_count": null,
   "metadata": {},
   "outputs": [],
   "source": [
    "'''\n",
    "Q16: Sequence Pattern Matching, given a string s1 and s2, is s1 is a subsequence of s2.\n",
    "\n",
    "'''"
   ]
  },
  {
   "cell_type": "code",
   "execution_count": 68,
   "metadata": {},
   "outputs": [
    {
     "name": "stdout",
     "output_type": "stream",
     "text": [
      "Yes, string a is a subsequence of string b (Top Down)\n",
      "Yes, string a is a subsequence of string b (Recursive)\n"
     ]
    }
   ],
   "source": [
    "#Ans16.\n",
    "            \n",
    "            \n",
    "#Approach 1: Top Down approach\n",
    "def patternMatching(s1, s2, l1, l2, t):\n",
    "    #Matrix creation and initialization\n",
    "    if len(t)==0:\n",
    "        t = [[-1]*(l2+1) for _ in range(l1+1)]\n",
    "        for i in range(l1+1):\n",
    "            t[i][0] = 0\n",
    "        for j in range(l2+1):\n",
    "            t[0][j] = 0\n",
    "    \n",
    "\n",
    "    for i in range(1, l1+1):\n",
    "        for j in range(1, l2+1):\n",
    "            if (s1[i-1] == s2[j-1] ):\n",
    "                t[i][j] = 1 + t[i-1][j-1]\n",
    "                \n",
    "            else:\n",
    "                t[i][j] = max(t[i-1][j], t[i][j-1])\n",
    "                    \n",
    "    return t[l1][l2]\n",
    "\n",
    "\n",
    "\n",
    "#Approach 2: Recursion\n",
    "def patternMatching2(s1, s2):\n",
    "    \n",
    "    #Base Condition\n",
    "    if len(s1) == 0 or len(s2)==0:\n",
    "        return 0\n",
    "    \n",
    "    #Choice Condition\n",
    "    if s1[-1] == s2[-1] :\n",
    "        return 1+ minInstDel2(s1[:-1], s2[:-1])\n",
    "    else:\n",
    "        return max(minInstDel2(s1[:-1], s2), minInstDel2(s1, s2[:-1]))\n",
    "    \n",
    "    \n",
    "\n",
    "a = \"axy\"\n",
    "b = \"abdxuy\"\n",
    "cnt = 0\n",
    "t = []\n",
    "\n",
    "m1 = patternMatching(a, b, len(a), len(b), t)\n",
    "if m1 == len(a):\n",
    "    print(\"Yes, string a is a subsequence of string b (Top Down)\")\n",
    "else:\n",
    "    print(\"No, string a is not a subsequence of string b (Top Down)\")\n",
    "    \n",
    "\n",
    "m2 = patternMatching2(a, b)\n",
    "if m2 == len(a):\n",
    "    print(\"Yes, string a is a subsequence of string b (Recursive)\")\n",
    "else:\n",
    "    print(\"No, string a is not a subsequence of string b (Recursive)\")"
   ]
  },
  {
   "cell_type": "code",
   "execution_count": null,
   "metadata": {},
   "outputs": [],
   "source": []
  },
  {
   "cell_type": "code",
   "execution_count": null,
   "metadata": {},
   "outputs": [],
   "source": []
  },
  {
   "cell_type": "code",
   "execution_count": null,
   "metadata": {},
   "outputs": [],
   "source": [
    "'''\n",
    "Q17: Minimum # of insertion required to create a string palindrome\n",
    "\n",
    "'''"
   ]
  },
  {
   "cell_type": "code",
   "execution_count": 69,
   "metadata": {},
   "outputs": [
    {
     "name": "stdout",
     "output_type": "stream",
     "text": [
      "Min # of insertion required (Top Down): 2\n",
      "Min # of insertion required (recurion): 2\n"
     ]
    }
   ],
   "source": [
    "#Ans17.\n",
    "            \n",
    "            \n",
    "#Approach 1: Top Down approach\n",
    "def palindromeInsert(s1, s2, l1, l2, t):\n",
    "    #Matrix creation and initialization\n",
    "    if len(t)==0:\n",
    "        t = [[-1]*(l2+1) for _ in range(l1+1)]\n",
    "        for i in range(l1+1):\n",
    "            t[i][0] = 0\n",
    "        for j in range(l2+1):\n",
    "            t[0][j] = 0\n",
    "    \n",
    "\n",
    "    for i in range(1, l1+1):\n",
    "        for j in range(1, l2+1):\n",
    "            if (s1[i-1] == s2[j-1] ):\n",
    "                t[i][j] = 1 + t[i-1][j-1]\n",
    "                \n",
    "            else:\n",
    "                t[i][j] = max(t[i-1][j], t[i][j-1])\n",
    "                    \n",
    "    return t[l1][l2]\n",
    "\n",
    "\n",
    "\n",
    "#Approach 2: Recursion\n",
    "def palindromeInsert2(s1, s2):\n",
    "    \n",
    "    #Base Condition\n",
    "    if len(s1) == 0 or len(s2)==0:\n",
    "        return 0\n",
    "    \n",
    "    #Choice Condition\n",
    "    if s1[-1] == s2[-1] :\n",
    "        return 1+ minInstDel2(s1[:-1], s2[:-1])\n",
    "    else:\n",
    "        return max(minInstDel2(s1[:-1], s2), minInstDel2(s1, s2[:-1]))\n",
    "    \n",
    "    \n",
    "\n",
    "a = \"acbcbda\"\n",
    "b = \"acdfgca\"\n",
    "cnt = 0\n",
    "t = []\n",
    "\n",
    "print(\"Min # of insertion required (Top Down):\", len(a) - palindromeInsert(a, a[::-1], len(a), len(a), t))\n",
    "print(\"Min # of insertion required (recurion):\", len(b) - palindromeInsert2(b, b[::-1]))"
   ]
  },
  {
   "cell_type": "code",
   "execution_count": null,
   "metadata": {},
   "outputs": [],
   "source": []
  }
 ],
 "metadata": {
  "kernelspec": {
   "display_name": "Python 3",
   "language": "python",
   "name": "python3"
  },
  "language_info": {
   "codemirror_mode": {
    "name": "ipython",
    "version": 3
   },
   "file_extension": ".py",
   "mimetype": "text/x-python",
   "name": "python",
   "nbconvert_exporter": "python",
   "pygments_lexer": "ipython3",
   "version": "3.6.5"
  }
 },
 "nbformat": 4,
 "nbformat_minor": 2
}
