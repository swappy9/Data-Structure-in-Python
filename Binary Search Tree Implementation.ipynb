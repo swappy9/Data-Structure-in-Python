{
 "cells": [
  {
   "cell_type": "code",
   "execution_count": 108,
   "metadata": {},
   "outputs": [],
   "source": [
    "class Node(object):\n",
    "    \n",
    "    def __init__(self, data):\n",
    "        self.data = data\n",
    "        self.LeftChild = None\n",
    "        self.RightChild = None\n",
    "        \n",
    "class BinarySearchTree(object):\n",
    "    \n",
    "    def __init__(self):\n",
    "        self.Root = None\n",
    "        \n",
    "    def insert(self, data):\n",
    "        \n",
    "        if not self.Root:\n",
    "            self.Root = Node(data)\n",
    "            \n",
    "        else:\n",
    "            self.insertNode(data, self.Root)\n",
    "            \n",
    "    def insertNode(self, data, node):\n",
    "        \n",
    "        if data < node.data:\n",
    "            if node.LeftChild:\n",
    "                self.insertNode(data, node.LeftChild)\n",
    "                \n",
    "            else:\n",
    "                node.LeftChild = Node(data)\n",
    "                \n",
    "        else:\n",
    "            if node.RightChild:\n",
    "                self.insertNode(data, node.RightChild)\n",
    "                \n",
    "            else:\n",
    "                node.RightChild = Node(data)\n",
    "                \n",
    "    \n",
    "    def remove(self, data):\n",
    "        if self.Root:\n",
    "            self.Root = self.removeNode(data, self.Root)\n",
    "            \n",
    "    def removeNode(self, data, node):\n",
    "        \n",
    "        if not node:\n",
    "            return node\n",
    "        \n",
    "        if data < node.data:\n",
    "            node.LeftChild  = self.removeNode(data, node.LeftChild)\n",
    "            \n",
    "        elif data > node.data:\n",
    "            node.RightChild = self.removeNode(data, node.RightChild)\n",
    "        \n",
    "        else:\n",
    "            if not node.LeftChild and not node.RightChild:\n",
    "                print('Removing a leaf Node .. ')\n",
    "                del node\n",
    "                return None\n",
    "            \n",
    "            if not node.LeftChild:\n",
    "                print('Removing a node with single right child ..')\n",
    "                temp = node.RightChild\n",
    "                del node\n",
    "                return temp\n",
    "            \n",
    "            elif not node.RightChild:\n",
    "                print('Removing a node with single left child ..')\n",
    "                temp = node.LeftChild\n",
    "                del node\n",
    "                return temp\n",
    "            \n",
    "            print('Removing node with two child ..')\n",
    "            temp = self.getPrevMax(node.LeftChild)\n",
    "            node.data = temp.data\n",
    "            node.LeftChild = self.removeNode(temp.data, node.LeftChild)\n",
    "            \n",
    "        return node\n",
    "            \n",
    "            \n",
    "    def getPrevMax(self, node):\n",
    "        if node.RightChild:\n",
    "            getPrevMax(node.RightChild)\n",
    "            \n",
    "        return node\n",
    "    \n",
    "    \n",
    "    def getMinValue(self):\n",
    "        if self.Root:\n",
    "            self.MinValue(self.Root)\n",
    "            \n",
    "    def MinValue(self, node):\n",
    "        \n",
    "        if node.LeftChild:\n",
    "            self.MinValue(node.LeftChild)\n",
    "        else:\n",
    "            print(\"%s\" % node.data)\n",
    "        \n",
    "\n",
    "    def getMaxValue(self):\n",
    "        if self.Root:\n",
    "            self.MaxValue(self.Root)\n",
    "            \n",
    "    def MaxValue(self, node):\n",
    "        \n",
    "        if node.RightChild:\n",
    "            self.MaxValue(node.RightChild)\n",
    "        else:\n",
    "            print(\"%s\" % node.data)\n",
    "    \n",
    "    \n",
    "    def bstTraverse(self):\n",
    "        if self.Root:\n",
    "            self.traverseInOrder(self.Root)\n",
    "                \n",
    "    def traverseInOrder(self, node):\n",
    "        \n",
    "        if node.LeftChild:\n",
    "            self.traverseInOrder(node.LeftChild)\n",
    "            \n",
    "        print(\"%s\" % node.data)\n",
    "        \n",
    "        if node.RightChild:\n",
    "            self.traverseInOrder(node.RightChild)\n",
    "            \n",
    "\n",
    "        "
   ]
  },
  {
   "cell_type": "code",
   "execution_count": 109,
   "metadata": {},
   "outputs": [],
   "source": [
    "bst = BinarySearchTree()"
   ]
  },
  {
   "cell_type": "code",
   "execution_count": 110,
   "metadata": {},
   "outputs": [],
   "source": [
    "bst.insert(5)"
   ]
  },
  {
   "cell_type": "code",
   "execution_count": 111,
   "metadata": {},
   "outputs": [],
   "source": [
    "bst.insert(3)\n",
    "bst.insert(7)\n",
    "bst.insert(4)\n",
    "bst.insert(2)"
   ]
  },
  {
   "cell_type": "code",
   "execution_count": 112,
   "metadata": {},
   "outputs": [
    {
     "name": "stdout",
     "output_type": "stream",
     "text": [
      "2\n"
     ]
    }
   ],
   "source": [
    "bst.getMinValue()"
   ]
  },
  {
   "cell_type": "code",
   "execution_count": 113,
   "metadata": {},
   "outputs": [
    {
     "name": "stdout",
     "output_type": "stream",
     "text": [
      "7\n"
     ]
    }
   ],
   "source": [
    "bst.getMaxValue()"
   ]
  },
  {
   "cell_type": "code",
   "execution_count": 114,
   "metadata": {},
   "outputs": [
    {
     "name": "stdout",
     "output_type": "stream",
     "text": [
      "2\n",
      "3\n",
      "4\n",
      "5\n",
      "7\n"
     ]
    }
   ],
   "source": [
    "bst.bstTraverse()"
   ]
  },
  {
   "cell_type": "code",
   "execution_count": 115,
   "metadata": {},
   "outputs": [
    {
     "name": "stdout",
     "output_type": "stream",
     "text": [
      "Removing a leaf Node .. \n"
     ]
    }
   ],
   "source": [
    "bst.remove(4)"
   ]
  },
  {
   "cell_type": "code",
   "execution_count": 116,
   "metadata": {},
   "outputs": [
    {
     "name": "stdout",
     "output_type": "stream",
     "text": [
      "2\n"
     ]
    }
   ],
   "source": [
    "bst.getMinValue()"
   ]
  },
  {
   "cell_type": "code",
   "execution_count": 117,
   "metadata": {},
   "outputs": [
    {
     "name": "stdout",
     "output_type": "stream",
     "text": [
      "2\n",
      "3\n",
      "5\n",
      "7\n"
     ]
    }
   ],
   "source": [
    "bst.bstTraverse()"
   ]
  },
  {
   "cell_type": "code",
   "execution_count": 118,
   "metadata": {},
   "outputs": [
    {
     "name": "stdout",
     "output_type": "stream",
     "text": [
      "Removing node with two child ..\n",
      "Removing a node with single left child ..\n"
     ]
    }
   ],
   "source": [
    "bst.remove(5)"
   ]
  },
  {
   "cell_type": "code",
   "execution_count": 119,
   "metadata": {},
   "outputs": [
    {
     "name": "stdout",
     "output_type": "stream",
     "text": [
      "2\n",
      "3\n",
      "7\n"
     ]
    }
   ],
   "source": [
    "bst.bstTraverse()"
   ]
  },
  {
   "cell_type": "code",
   "execution_count": 120,
   "metadata": {},
   "outputs": [
    {
     "name": "stdout",
     "output_type": "stream",
     "text": [
      "2\n"
     ]
    }
   ],
   "source": [
    "bst.getMinValue()"
   ]
  },
  {
   "cell_type": "code",
   "execution_count": 121,
   "metadata": {},
   "outputs": [
    {
     "name": "stdout",
     "output_type": "stream",
     "text": [
      "7\n"
     ]
    }
   ],
   "source": [
    "bst.getMaxValue()"
   ]
  },
  {
   "cell_type": "code",
   "execution_count": null,
   "metadata": {},
   "outputs": [],
   "source": []
  }
 ],
 "metadata": {
  "kernelspec": {
   "display_name": "Python 3",
   "language": "python",
   "name": "python3"
  },
  "language_info": {
   "codemirror_mode": {
    "name": "ipython",
    "version": 3
   },
   "file_extension": ".py",
   "mimetype": "text/x-python",
   "name": "python",
   "nbconvert_exporter": "python",
   "pygments_lexer": "ipython3",
   "version": "3.4.3"
  }
 },
 "nbformat": 4,
 "nbformat_minor": 2
}
