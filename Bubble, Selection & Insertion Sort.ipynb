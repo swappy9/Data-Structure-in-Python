{
 "cells": [
  {
   "cell_type": "code",
   "execution_count": 10,
   "metadata": {},
   "outputs": [],
   "source": [
    "#Bubble Sort \n",
    "#At every step, last element is sorted\n",
    "#Compare each pair of adjacent items and swaps them if they are in the wrong order\n",
    "#Worst case and avg. case complexity -> O(n2)\n",
    "#Too slow\n",
    "\n",
    "def BubbleSort(arr):\n",
    "    for i in range(0, len(arr)-1):\n",
    "        for j in range(0, len(arr) - 1 - i):\n",
    "            if arr[j] > arr[j+1]:\n",
    "                temp = arr[j]\n",
    "                arr[j] = arr[j+1]\n",
    "                arr[j+1] = temp\n",
    "                \n",
    "    return arr"
   ]
  },
  {
   "cell_type": "code",
   "execution_count": 11,
   "metadata": {},
   "outputs": [],
   "source": [
    "#Selection Sort\n",
    "#At every step first element is sorted\n",
    "#Worst case complexity >- O(n2)\n",
    "#Simple and has performance advantage as there is no need for extra memory\n",
    "\n",
    "def SelectionSort(arr):\n",
    "    for i in range(0, len(arr) - 1):\n",
    "        \n",
    "        index = i\n",
    "        \n",
    "        for j in range(i + 1, len(arr)):\n",
    "            if arr[j] < arr[index]:\n",
    "                index = j\n",
    "                \n",
    "        if index != i:\n",
    "            temp = arr[i]\n",
    "            arr[i] = arr[index]\n",
    "            arr[index] = temp\n",
    "                \n",
    "    return arr"
   ]
  },
  {
   "cell_type": "code",
   "execution_count": 12,
   "metadata": {},
   "outputs": [],
   "source": [
    "#Insertion Sort\n",
    "#At every step first element is sorted\n",
    "#Adaptive algorithm, speeds up when subarray is already sorted\n",
    "#Worst case time complexity is O(n2) when array is sorted in reverse order\n",
    " \n",
    "def InsertionSort(arr):\n",
    "    for i in range(1, len(arr)):\n",
    "        j = i\n",
    "        \n",
    "        while j > 0:\n",
    "            if arr[j-1] > arr[j]:\n",
    "                temp = arr[j-1]\n",
    "                arr[j-1] = arr[j]\n",
    "                arr[j] = temp\n",
    "            j = j-1    \n",
    "    return arr"
   ]
  },
  {
   "cell_type": "code",
   "execution_count": 13,
   "metadata": {},
   "outputs": [],
   "source": [
    "a = [3, 6, -1, 2, 23, 10]\n",
    "b = [-5, -10, 1, 4, -3, 0]"
   ]
  },
  {
   "cell_type": "code",
   "execution_count": 14,
   "metadata": {},
   "outputs": [
    {
     "data": {
      "text/plain": [
       "[-1, 2, 3, 6, 10, 23]"
      ]
     },
     "execution_count": 14,
     "metadata": {},
     "output_type": "execute_result"
    }
   ],
   "source": [
    "BubbleSort(a)"
   ]
  },
  {
   "cell_type": "code",
   "execution_count": 15,
   "metadata": {},
   "outputs": [
    {
     "data": {
      "text/plain": [
       "[-10, -5, -3, 0, 1, 4]"
      ]
     },
     "execution_count": 15,
     "metadata": {},
     "output_type": "execute_result"
    }
   ],
   "source": [
    "BubbleSort(b)"
   ]
  },
  {
   "cell_type": "code",
   "execution_count": 16,
   "metadata": {},
   "outputs": [
    {
     "data": {
      "text/plain": [
       "[-1, 2, 3, 6, 10, 23]"
      ]
     },
     "execution_count": 16,
     "metadata": {},
     "output_type": "execute_result"
    }
   ],
   "source": [
    "SelectionSort(a)"
   ]
  },
  {
   "cell_type": "code",
   "execution_count": 17,
   "metadata": {},
   "outputs": [
    {
     "data": {
      "text/plain": [
       "[-10, -5, -3, 0, 1, 4]"
      ]
     },
     "execution_count": 17,
     "metadata": {},
     "output_type": "execute_result"
    }
   ],
   "source": [
    "SelectionSort(b)"
   ]
  },
  {
   "cell_type": "code",
   "execution_count": 18,
   "metadata": {},
   "outputs": [
    {
     "data": {
      "text/plain": [
       "[-1, 2, 3, 6, 10, 23]"
      ]
     },
     "execution_count": 18,
     "metadata": {},
     "output_type": "execute_result"
    }
   ],
   "source": [
    "InsertionSort(a)"
   ]
  },
  {
   "cell_type": "code",
   "execution_count": 19,
   "metadata": {},
   "outputs": [
    {
     "data": {
      "text/plain": [
       "[-10, -5, -3, 0, 1, 4]"
      ]
     },
     "execution_count": 19,
     "metadata": {},
     "output_type": "execute_result"
    }
   ],
   "source": [
    "InsertionSort(b)"
   ]
  },
  {
   "cell_type": "code",
   "execution_count": null,
   "metadata": {},
   "outputs": [],
   "source": []
  }
 ],
 "metadata": {
  "kernelspec": {
   "display_name": "Python 3",
   "language": "python",
   "name": "python3"
  },
  "language_info": {
   "codemirror_mode": {
    "name": "ipython",
    "version": 3
   },
   "file_extension": ".py",
   "mimetype": "text/x-python",
   "name": "python",
   "nbconvert_exporter": "python",
   "pygments_lexer": "ipython3",
   "version": "3.4.3"
  }
 },
 "nbformat": 4,
 "nbformat_minor": 2
}
